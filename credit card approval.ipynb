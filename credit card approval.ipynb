{
  "cells": [
    {
      "cell_type": "markdown",
      "metadata": {
        "id": "m3O8BSiPAsgK"
      },
      "source": [
        "Section 1: Credit Card approval Project is used to whether the person is eligible for loan or not . If bank sector determines the right person he can repay the loan correctly. This Project aims to predict based on the given conditions whether the person is eligible for loan or not ."
      ]
    },
    {
      "cell_type": "markdown",
      "metadata": {},
      "source": [
        "Importing two data sets credit_card.csv and credit card_label.csv"
      ]
    },
    {
      "cell_type": "code",
      "execution_count": 75,
      "metadata": {
        "colab": {
          "base_uri": "https://localhost:8080/"
        },
        "id": "GuhNTGc5BuzK",
        "outputId": "2b9eaabf-7bad-451b-8178-0dcb67d0de79"
      },
      "outputs": [
        {
          "name": "stdout",
          "output_type": "stream",
          "text": [
            "       Ind_ID GENDER Car_Owner Propert_Owner  CHILDREN  Annual_income  \\\n",
            "0     5008827      M         Y             Y         0       180000.0   \n",
            "1     5009744      F         Y             N         0       315000.0   \n",
            "2     5009746      F         Y             N         0       315000.0   \n",
            "3     5009749      F         Y             N         0            NaN   \n",
            "4     5009752      F         Y             N         0       315000.0   \n",
            "...       ...    ...       ...           ...       ...            ...   \n",
            "1543  5028645      F         N             Y         0            NaN   \n",
            "1544  5023655      F         N             N         0       225000.0   \n",
            "1545  5115992      M         Y             Y         2       180000.0   \n",
            "1546  5118219      M         Y             N         0       270000.0   \n",
            "1547  5053790      F         Y             Y         0       225000.0   \n",
            "\n",
            "               Type_Income                      EDUCATION  \\\n",
            "0                Pensioner               Higher education   \n",
            "1     Commercial associate               Higher education   \n",
            "2     Commercial associate               Higher education   \n",
            "3     Commercial associate               Higher education   \n",
            "4     Commercial associate               Higher education   \n",
            "...                    ...                            ...   \n",
            "1543  Commercial associate               Higher education   \n",
            "1544  Commercial associate              Incomplete higher   \n",
            "1545               Working               Higher education   \n",
            "1546               Working  Secondary / secondary special   \n",
            "1547               Working               Higher education   \n",
            "\n",
            "            Marital_status       Housing_type  Birthday_count  Employed_days  \\\n",
            "0                  Married  House / apartment        -18772.0         365243   \n",
            "1                  Married  House / apartment        -13557.0           -586   \n",
            "2                  Married  House / apartment             NaN           -586   \n",
            "3                  Married  House / apartment        -13557.0           -586   \n",
            "4                  Married  House / apartment        -13557.0           -586   \n",
            "...                    ...                ...             ...            ...   \n",
            "1543               Married  House / apartment        -11957.0          -2182   \n",
            "1544  Single / not married  House / apartment        -10229.0          -1209   \n",
            "1545               Married  House / apartment        -13174.0          -2477   \n",
            "1546        Civil marriage  House / apartment        -15292.0           -645   \n",
            "1547               Married  House / apartment        -16601.0          -2859   \n",
            "\n",
            "      Mobile_phone  Work_Phone  Phone  EMAIL_ID Type_Occupation  \\\n",
            "0                1           0      0         0             NaN   \n",
            "1                1           1      1         0             NaN   \n",
            "2                1           1      1         0             NaN   \n",
            "3                1           1      1         0             NaN   \n",
            "4                1           1      1         0             NaN   \n",
            "...            ...         ...    ...       ...             ...   \n",
            "1543             1           0      0         0        Managers   \n",
            "1544             1           0      0         0     Accountants   \n",
            "1545             1           0      0         0        Managers   \n",
            "1546             1           1      1         0         Drivers   \n",
            "1547             1           0      0         0             NaN   \n",
            "\n",
            "      Family_Members  \n",
            "0                  2  \n",
            "1                  2  \n",
            "2                  2  \n",
            "3                  2  \n",
            "4                  2  \n",
            "...              ...  \n",
            "1543               2  \n",
            "1544               1  \n",
            "1545               4  \n",
            "1546               2  \n",
            "1547               2  \n",
            "\n",
            "[1548 rows x 18 columns]\n",
            "Index(['Ind_ID', 'label'], dtype='object')\n"
          ]
        }
      ],
      "source": [
        "import pandas as pd\n",
        "df=pd.read_csv('/content/Credit_card.csv')\n",
        "df1=pd.read_csv('/content/Credit_card_label.csv')\n",
        "df.head(5)\n",
        "df1.head(5)\n",
        "print(df)\n",
        "print(df1.columns)\n"
      ]
    },
    {
      "cell_type": "markdown",
      "metadata": {
        "id": "ReL8ahx0BT58"
      },
      "source": [
        "Merging Two data frames based on the column IND_ID"
      ]
    },
    {
      "cell_type": "code",
      "execution_count": 76,
      "metadata": {
        "colab": {
          "base_uri": "https://localhost:8080/"
        },
        "id": "trZOYgk-DHGk",
        "outputId": "df5fbe4f-54b7-4773-f335-2205bac2da96"
      },
      "outputs": [
        {
          "name": "stdout",
          "output_type": "stream",
          "text": [
            "       Ind_ID GENDER Car_Owner Propert_Owner  CHILDREN  Annual_income  \\\n",
            "0     5008827      M         Y             Y         0       180000.0   \n",
            "1     5009744      F         Y             N         0       315000.0   \n",
            "2     5009746      F         Y             N         0       315000.0   \n",
            "3     5009749      F         Y             N         0            NaN   \n",
            "4     5009752      F         Y             N         0       315000.0   \n",
            "...       ...    ...       ...           ...       ...            ...   \n",
            "1543  5028645      F         N             Y         0            NaN   \n",
            "1544  5023655      F         N             N         0       225000.0   \n",
            "1545  5115992      M         Y             Y         2       180000.0   \n",
            "1546  5118219      M         Y             N         0       270000.0   \n",
            "1547  5053790      F         Y             Y         0       225000.0   \n",
            "\n",
            "               Type_Income                      EDUCATION  \\\n",
            "0                Pensioner               Higher education   \n",
            "1     Commercial associate               Higher education   \n",
            "2     Commercial associate               Higher education   \n",
            "3     Commercial associate               Higher education   \n",
            "4     Commercial associate               Higher education   \n",
            "...                    ...                            ...   \n",
            "1543  Commercial associate               Higher education   \n",
            "1544  Commercial associate              Incomplete higher   \n",
            "1545               Working               Higher education   \n",
            "1546               Working  Secondary / secondary special   \n",
            "1547               Working               Higher education   \n",
            "\n",
            "            Marital_status       Housing_type  Birthday_count  Employed_days  \\\n",
            "0                  Married  House / apartment        -18772.0         365243   \n",
            "1                  Married  House / apartment        -13557.0           -586   \n",
            "2                  Married  House / apartment             NaN           -586   \n",
            "3                  Married  House / apartment        -13557.0           -586   \n",
            "4                  Married  House / apartment        -13557.0           -586   \n",
            "...                    ...                ...             ...            ...   \n",
            "1543               Married  House / apartment        -11957.0          -2182   \n",
            "1544  Single / not married  House / apartment        -10229.0          -1209   \n",
            "1545               Married  House / apartment        -13174.0          -2477   \n",
            "1546        Civil marriage  House / apartment        -15292.0           -645   \n",
            "1547               Married  House / apartment        -16601.0          -2859   \n",
            "\n",
            "      Mobile_phone  Work_Phone  Phone  EMAIL_ID Type_Occupation  \\\n",
            "0                1           0      0         0             NaN   \n",
            "1                1           1      1         0             NaN   \n",
            "2                1           1      1         0             NaN   \n",
            "3                1           1      1         0             NaN   \n",
            "4                1           1      1         0             NaN   \n",
            "...            ...         ...    ...       ...             ...   \n",
            "1543             1           0      0         0        Managers   \n",
            "1544             1           0      0         0     Accountants   \n",
            "1545             1           0      0         0        Managers   \n",
            "1546             1           1      1         0         Drivers   \n",
            "1547             1           0      0         0             NaN   \n",
            "\n",
            "      Family_Members  label  \n",
            "0                  2      1  \n",
            "1                  2      1  \n",
            "2                  2      1  \n",
            "3                  2      1  \n",
            "4                  2      1  \n",
            "...              ...    ...  \n",
            "1543               2      0  \n",
            "1544               1      0  \n",
            "1545               4      0  \n",
            "1546               2      0  \n",
            "1547               2      0  \n",
            "\n",
            "[1548 rows x 19 columns]\n"
          ]
        }
      ],
      "source": [
        "new_df = pd.merge(df, df1, on='Ind_ID')\n",
        "print(new_df)"
      ]
    },
    {
      "cell_type": "markdown",
      "metadata": {},
      "source": [
        "Section 3 - Feature Engineering techniques"
      ]
    },
    {
      "cell_type": "markdown",
      "metadata": {
        "id": "jFrd2dFS8c-W"
      },
      "source": [
        "Using **Feature Engineering Techniques** we can remove null values , replacing the null values and convert categorical values to numerical values"
      ]
    },
    {
      "cell_type": "markdown",
      "metadata": {
        "id": "1hFsT76oBkkC"
      },
      "source": [
        "To get the information of new_df dataframe"
      ]
    },
    {
      "cell_type": "code",
      "execution_count": 77,
      "metadata": {
        "colab": {
          "base_uri": "https://localhost:8080/"
        },
        "id": "FENRwSt9FNTT",
        "outputId": "41b4fbd5-87ec-4fb2-b3de-bc8699a11f43"
      },
      "outputs": [
        {
          "name": "stdout",
          "output_type": "stream",
          "text": [
            "<class 'pandas.core.frame.DataFrame'>\n",
            "Int64Index: 1548 entries, 0 to 1547\n",
            "Data columns (total 19 columns):\n",
            " #   Column           Non-Null Count  Dtype  \n",
            "---  ------           --------------  -----  \n",
            " 0   Ind_ID           1548 non-null   int64  \n",
            " 1   GENDER           1541 non-null   object \n",
            " 2   Car_Owner        1548 non-null   object \n",
            " 3   Propert_Owner    1548 non-null   object \n",
            " 4   CHILDREN         1548 non-null   int64  \n",
            " 5   Annual_income    1525 non-null   float64\n",
            " 6   Type_Income      1548 non-null   object \n",
            " 7   EDUCATION        1548 non-null   object \n",
            " 8   Marital_status   1548 non-null   object \n",
            " 9   Housing_type     1548 non-null   object \n",
            " 10  Birthday_count   1526 non-null   float64\n",
            " 11  Employed_days    1548 non-null   int64  \n",
            " 12  Mobile_phone     1548 non-null   int64  \n",
            " 13  Work_Phone       1548 non-null   int64  \n",
            " 14  Phone            1548 non-null   int64  \n",
            " 15  EMAIL_ID         1548 non-null   int64  \n",
            " 16  Type_Occupation  1060 non-null   object \n",
            " 17  Family_Members   1548 non-null   int64  \n",
            " 18  label            1548 non-null   int64  \n",
            "dtypes: float64(2), int64(9), object(8)\n",
            "memory usage: 241.9+ KB\n"
          ]
        }
      ],
      "source": [
        "new_df.info()"
      ]
    },
    {
      "cell_type": "markdown",
      "metadata": {
        "id": "-jTlDD0WBzVZ"
      },
      "source": [
        "converting categorical values in Type_Occupation column to numerical values"
      ]
    },
    {
      "cell_type": "code",
      "execution_count": 78,
      "metadata": {
        "colab": {
          "base_uri": "https://localhost:8080/"
        },
        "id": "NHH6gD0oexB_",
        "outputId": "54190b9a-d75b-41b9-db3d-f2f9f46cae4c"
      },
      "outputs": [
        {
          "name": "stdout",
          "output_type": "stream",
          "text": [
            "{'Core staff': 1, 'Cooking staff': 2, 'Laborers': 3, 'Sales staff': 4, 'Accountants': 5, 'High skill tech staff': 6, 'Managers': 7, 'Cleaning staff': 8, 'Drivers': 9, 'Low-skill Laborers': 10, 'IT staff': 11, 'Waiters/barmen staff': 12, 'Security staff': 13, 'Medicine staff': 14, 'Private service staff': 15, 'HR staff': 16, 'Secretaries': 17, 'Realty agents': 18}\n",
            "0       NaN\n",
            "1       NaN\n",
            "2       NaN\n",
            "3       NaN\n",
            "4       NaN\n",
            "       ... \n",
            "1543    7.0\n",
            "1544    5.0\n",
            "1545    7.0\n",
            "1546    9.0\n",
            "1547    NaN\n",
            "Name: Type_Occupation, Length: 1548, dtype: float64\n"
          ]
        }
      ],
      "source": [
        "new_df['Type_Occupation'].unique()\n",
        "t_o={}\n",
        "t_type=['Core staff', 'Cooking staff', 'Laborers', 'Sales staff',\n",
        "       'Accountants', 'High skill tech staff', 'Managers',\n",
        "       'Cleaning staff', 'Drivers', 'Low-skill Laborers', 'IT staff',\n",
        "       'Waiters/barmen staff', 'Security staff', 'Medicine staff',\n",
        "       'Private service staff', 'HR staff', 'Secretaries',\n",
        "       'Realty agents']\n",
        "for i in range(0,len(t_type)):\n",
        "  t_o[t_type[i]]=i+1\n",
        "print(t_o)\n",
        "new_df['Type_Occupation']=new_df['Type_Occupation'].map(t_o)\n",
        "print(new_df['Type_Occupation'])"
      ]
    },
    {
      "cell_type": "markdown",
      "metadata": {
        "id": "bIQrke2kB70e"
      },
      "source": [
        "converting categorical values in 'Housing_type' column to numerical values"
      ]
    },
    {
      "cell_type": "code",
      "execution_count": 79,
      "metadata": {
        "colab": {
          "base_uri": "https://localhost:8080/"
        },
        "id": "tv0p-9osdcxu",
        "outputId": "8501add9-af4d-4355-bea4-95336827deb9"
      },
      "outputs": [
        {
          "name": "stdout",
          "output_type": "stream",
          "text": [
            "{'House / apartment': 1, 'With parents': 2, 'Rented apartment': 3, 'Municipal apartment': 4, 'Co-op apartment': 5, 'Office apartment': 6}\n",
            "0       1\n",
            "1       1\n",
            "2       1\n",
            "3       1\n",
            "4       1\n",
            "       ..\n",
            "1543    1\n",
            "1544    1\n",
            "1545    1\n",
            "1546    1\n",
            "1547    1\n",
            "Name: Housing_type, Length: 1548, dtype: int64\n"
          ]
        }
      ],
      "source": [
        "df['Housing_type'].unique()\n",
        "h_t={}\n",
        "h_type=['House / apartment', 'With parents', 'Rented apartment',\n",
        "       'Municipal apartment', 'Co-op apartment', 'Office apartment']\n",
        "for i in range(0,len(h_type)):\n",
        "  h_t[h_type[i]]=i+1\n",
        "print(h_t)\n",
        "new_df['Housing_type']=new_df['Housing_type'].map(h_t)\n",
        "print(new_df['Housing_type'])"
      ]
    },
    {
      "cell_type": "markdown",
      "metadata": {
        "id": "neE5PARGCIBq"
      },
      "source": [
        "Converting categorical values in 'Marital_status' column to numerical values"
      ]
    },
    {
      "cell_type": "code",
      "execution_count": 80,
      "metadata": {
        "colab": {
          "base_uri": "https://localhost:8080/"
        },
        "id": "6f1H1dvqadhG",
        "outputId": "39da2d64-e3f7-4e23-8e2a-9852dae01bcf"
      },
      "outputs": [
        {
          "name": "stdout",
          "output_type": "stream",
          "text": [
            "{'Married': 1, 'Single / not married': 2, 'Civil marriage': 3, 'Separated': 4, 'Widow': 5}\n",
            "0       1\n",
            "1       1\n",
            "2       1\n",
            "3       1\n",
            "4       1\n",
            "       ..\n",
            "1543    1\n",
            "1544    2\n",
            "1545    1\n",
            "1546    3\n",
            "1547    1\n",
            "Name: Marital_status, Length: 1548, dtype: int64\n"
          ]
        }
      ],
      "source": [
        "df['Marital_status'].unique()\n",
        "mart={}\n",
        "martital=['Married', 'Single / not married', 'Civil marriage', 'Separated',\n",
        "       'Widow']\n",
        "for i in range(0,len(martital)):\n",
        "  mart[martital[i]]=i+1\n",
        "# mart\n",
        "print(mart)\n",
        "new_df['Marital_status']=new_df['Marital_status'].map(mart)\n",
        "print(new_df['Marital_status'])"
      ]
    },
    {
      "cell_type": "markdown",
      "metadata": {
        "id": "tsgOl3JECUj7"
      },
      "source": [
        "Converting categorical values in 'Education' column to numerical values"
      ]
    },
    {
      "cell_type": "code",
      "execution_count": 81,
      "metadata": {
        "colab": {
          "base_uri": "https://localhost:8080/"
        },
        "id": "S_QtVGQlXV8_",
        "outputId": "3c64ec0e-dd4e-4346-905f-94bd66437572"
      },
      "outputs": [
        {
          "name": "stdout",
          "output_type": "stream",
          "text": [
            "0       4\n",
            "1       4\n",
            "2       4\n",
            "3       4\n",
            "4       4\n",
            "       ..\n",
            "1543    4\n",
            "1544    5\n",
            "1545    4\n",
            "1546    1\n",
            "1547    4\n",
            "Name: EDUCATION, Length: 1548, dtype: int64\n"
          ]
        }
      ],
      "source": [
        "\n",
        "edu={'Secondary / secondary special': 1, 'Academic degree': 2, 'Lower secondary': 3, 'Higher education': 4\n",
        "     , 'Incomplete higher': 5}\n",
        "new_df['EDUCATION'].unique()\n",
        "new_df['EDUCATION']=new_df['EDUCATION'].map(edu)\n",
        "print(new_df['EDUCATION'])"
      ]
    },
    {
      "cell_type": "markdown",
      "metadata": {
        "id": "4DVdz4TqCZyz"
      },
      "source": [
        "Converting categorical values in 'Type_income' column to numerical values"
      ]
    },
    {
      "cell_type": "code",
      "execution_count": 82,
      "metadata": {
        "id": "eiXXE35NVPq9"
      },
      "outputs": [],
      "source": [
        "new_df['Type_Income'].unique()\n",
        "type_income={'Pensioner':1,'Commercial associate':2,'Working':3,'State servant':4}\n",
        "new_df['Type_Income']=new_df['Type_Income'].map(type_income)"
      ]
    },
    {
      "cell_type": "markdown",
      "metadata": {
        "id": "5oHtVhHPCojK"
      },
      "source": [
        "Converting categorical values in 'Propert_Owner' column to numerical values"
      ]
    },
    {
      "cell_type": "code",
      "execution_count": 83,
      "metadata": {
        "colab": {
          "base_uri": "https://localhost:8080/"
        },
        "id": "FndUgYQ7UbXQ",
        "outputId": "80260bee-18a2-4ad2-b257-9a2ebed33387"
      },
      "outputs": [
        {
          "data": {
            "text/plain": [
              "0       1\n",
              "1       0\n",
              "2       0\n",
              "3       0\n",
              "4       0\n",
              "       ..\n",
              "1543    1\n",
              "1544    0\n",
              "1545    1\n",
              "1546    0\n",
              "1547    1\n",
              "Name: Propert_Owner, Length: 1548, dtype: int64"
            ]
          },
          "execution_count": 83,
          "metadata": {},
          "output_type": "execute_result"
        }
      ],
      "source": [
        "new_df['Propert_Owner'].unique()\n",
        "property_owner={'Y':1,'N':0}\n",
        "new_df['Propert_Owner']=new_df['Propert_Owner'].map(property_owner)\n",
        "new_df['Propert_Owner']"
      ]
    },
    {
      "cell_type": "markdown",
      "metadata": {
        "id": "FSK6n4tRC0Ey"
      },
      "source": [
        "Converting categorical values in 'Car_owner' column to numerical values"
      ]
    },
    {
      "cell_type": "code",
      "execution_count": 84,
      "metadata": {
        "colab": {
          "base_uri": "https://localhost:8080/"
        },
        "id": "Zhin6TkPS3us",
        "outputId": "56fa90a8-3c55-49f2-8548-6bae1fbef706"
      },
      "outputs": [
        {
          "data": {
            "text/plain": [
              "0       1\n",
              "1       1\n",
              "2       1\n",
              "3       1\n",
              "4       1\n",
              "       ..\n",
              "1543    0\n",
              "1544    0\n",
              "1545    1\n",
              "1546    1\n",
              "1547    1\n",
              "Name: Car_Owner, Length: 1548, dtype: int64"
            ]
          },
          "execution_count": 84,
          "metadata": {},
          "output_type": "execute_result"
        }
      ],
      "source": [
        "\n",
        "car_owner={'Y':1,'N':0}\n",
        "new_df['Car_Owner']=new_df['Car_Owner'].map(car_owner)\n",
        "new_df['Car_Owner']"
      ]
    },
    {
      "cell_type": "code",
      "execution_count": 90,
      "metadata": {
        "colab": {
          "base_uri": "https://localhost:8080/"
        },
        "id": "YmMwcQxeECOM",
        "outputId": "f73b06dd-fc83-402c-c6c3-fdee27c4c020"
      },
      "outputs": [
        {
          "data": {
            "text/plain": [
              "2.0    973\n",
              "1.0    568\n",
              "Name: GENDER, dtype: int64"
            ]
          },
          "execution_count": 90,
          "metadata": {},
          "output_type": "execute_result"
        }
      ],
      "source": [
        "new_df['GENDER'].unique()\n",
        "gender={'M':1,'F':2}\n",
        "new_df['GENDER']=new_df['GENDER'].map(gender)\n",
        "new_df['GENDER'].value_counts()"
      ]
    },
    {
      "cell_type": "markdown",
      "metadata": {
        "id": "O8xzxY98C8Yu"
      },
      "source": [
        "To check how many null values are present in new_df data frame"
      ]
    },
    {
      "cell_type": "code",
      "execution_count": 86,
      "metadata": {
        "colab": {
          "base_uri": "https://localhost:8080/"
        },
        "id": "_dBwB4EDKMFb",
        "outputId": "6143d3d3-d35c-4ab5-8c8f-ad9609a80b1a"
      },
      "outputs": [
        {
          "data": {
            "text/plain": [
              "Ind_ID               0\n",
              "GENDER               7\n",
              "Car_Owner            0\n",
              "Propert_Owner        0\n",
              "CHILDREN             0\n",
              "Annual_income       23\n",
              "Type_Income          0\n",
              "EDUCATION            0\n",
              "Marital_status       0\n",
              "Housing_type         0\n",
              "Birthday_count      22\n",
              "Employed_days        0\n",
              "Mobile_phone         0\n",
              "Work_Phone           0\n",
              "Phone                0\n",
              "EMAIL_ID             0\n",
              "Type_Occupation    488\n",
              "Family_Members       0\n",
              "label                0\n",
              "dtype: int64"
            ]
          },
          "execution_count": 86,
          "metadata": {},
          "output_type": "execute_result"
        }
      ],
      "source": [
        "new_df.isnull().sum()"
      ]
    },
    {
      "cell_type": "markdown",
      "metadata": {
        "id": "ZJ_cyx9zDwZL"
      },
      "source": [
        "Describe function shows the count, min , max etc., values of each column in dataframe"
      ]
    },
    {
      "cell_type": "code",
      "execution_count": 87,
      "metadata": {
        "colab": {
          "base_uri": "https://localhost:8080/",
          "height": 320
        },
        "id": "7eJkk9xfFYKE",
        "outputId": "20f98c3a-3407-438b-8d17-3ffd911ceb10"
      },
      "outputs": [
        {
          "data": {
            "text/html": [
              "\n",
              "  <div id=\"df-ef79499c-a568-4be6-9937-30a2771deaef\" class=\"colab-df-container\">\n",
              "    <div>\n",
              "<style scoped>\n",
              "    .dataframe tbody tr th:only-of-type {\n",
              "        vertical-align: middle;\n",
              "    }\n",
              "\n",
              "    .dataframe tbody tr th {\n",
              "        vertical-align: top;\n",
              "    }\n",
              "\n",
              "    .dataframe thead th {\n",
              "        text-align: right;\n",
              "    }\n",
              "</style>\n",
              "<table border=\"1\" class=\"dataframe\">\n",
              "  <thead>\n",
              "    <tr style=\"text-align: right;\">\n",
              "      <th></th>\n",
              "      <th>Ind_ID</th>\n",
              "      <th>Car_Owner</th>\n",
              "      <th>Propert_Owner</th>\n",
              "      <th>CHILDREN</th>\n",
              "      <th>Annual_income</th>\n",
              "      <th>Type_Income</th>\n",
              "      <th>EDUCATION</th>\n",
              "      <th>Marital_status</th>\n",
              "      <th>Housing_type</th>\n",
              "      <th>Birthday_count</th>\n",
              "      <th>Employed_days</th>\n",
              "      <th>Mobile_phone</th>\n",
              "      <th>Work_Phone</th>\n",
              "      <th>Phone</th>\n",
              "      <th>EMAIL_ID</th>\n",
              "      <th>Type_Occupation</th>\n",
              "      <th>Family_Members</th>\n",
              "      <th>label</th>\n",
              "    </tr>\n",
              "  </thead>\n",
              "  <tbody>\n",
              "    <tr>\n",
              "      <th>count</th>\n",
              "      <td>1.548000e+03</td>\n",
              "      <td>1548.000000</td>\n",
              "      <td>1548.000000</td>\n",
              "      <td>1548.000000</td>\n",
              "      <td>1.525000e+03</td>\n",
              "      <td>1548.000000</td>\n",
              "      <td>1548.000000</td>\n",
              "      <td>1548.000000</td>\n",
              "      <td>1548.000000</td>\n",
              "      <td>1526.000000</td>\n",
              "      <td>1548.000000</td>\n",
              "      <td>1548.0</td>\n",
              "      <td>1548.000000</td>\n",
              "      <td>1548.000000</td>\n",
              "      <td>1548.000000</td>\n",
              "      <td>1060.000000</td>\n",
              "      <td>1548.000000</td>\n",
              "      <td>1548.000000</td>\n",
              "    </tr>\n",
              "    <tr>\n",
              "      <th>mean</th>\n",
              "      <td>5.078920e+06</td>\n",
              "      <td>0.403101</td>\n",
              "      <td>0.652455</td>\n",
              "      <td>0.412791</td>\n",
              "      <td>1.913993e+05</td>\n",
              "      <td>2.491602</td>\n",
              "      <td>2.029716</td>\n",
              "      <td>1.656977</td>\n",
              "      <td>1.223514</td>\n",
              "      <td>-16040.342071</td>\n",
              "      <td>59364.689922</td>\n",
              "      <td>1.0</td>\n",
              "      <td>0.208010</td>\n",
              "      <td>0.309432</td>\n",
              "      <td>0.092377</td>\n",
              "      <td>5.385849</td>\n",
              "      <td>2.161499</td>\n",
              "      <td>0.113049</td>\n",
              "    </tr>\n",
              "    <tr>\n",
              "      <th>std</th>\n",
              "      <td>4.171759e+04</td>\n",
              "      <td>0.490679</td>\n",
              "      <td>0.476345</td>\n",
              "      <td>0.776691</td>\n",
              "      <td>1.132530e+05</td>\n",
              "      <td>0.864771</td>\n",
              "      <td>1.475206</td>\n",
              "      <td>1.144633</td>\n",
              "      <td>0.749343</td>\n",
              "      <td>4229.503202</td>\n",
              "      <td>137808.062701</td>\n",
              "      <td>0.0</td>\n",
              "      <td>0.406015</td>\n",
              "      <td>0.462409</td>\n",
              "      <td>0.289651</td>\n",
              "      <td>3.896827</td>\n",
              "      <td>0.947772</td>\n",
              "      <td>0.316755</td>\n",
              "    </tr>\n",
              "    <tr>\n",
              "      <th>min</th>\n",
              "      <td>5.008827e+06</td>\n",
              "      <td>0.000000</td>\n",
              "      <td>0.000000</td>\n",
              "      <td>0.000000</td>\n",
              "      <td>3.375000e+04</td>\n",
              "      <td>1.000000</td>\n",
              "      <td>1.000000</td>\n",
              "      <td>1.000000</td>\n",
              "      <td>1.000000</td>\n",
              "      <td>-24946.000000</td>\n",
              "      <td>-14887.000000</td>\n",
              "      <td>1.0</td>\n",
              "      <td>0.000000</td>\n",
              "      <td>0.000000</td>\n",
              "      <td>0.000000</td>\n",
              "      <td>1.000000</td>\n",
              "      <td>1.000000</td>\n",
              "      <td>0.000000</td>\n",
              "    </tr>\n",
              "    <tr>\n",
              "      <th>25%</th>\n",
              "      <td>5.045070e+06</td>\n",
              "      <td>0.000000</td>\n",
              "      <td>0.000000</td>\n",
              "      <td>0.000000</td>\n",
              "      <td>1.215000e+05</td>\n",
              "      <td>2.000000</td>\n",
              "      <td>1.000000</td>\n",
              "      <td>1.000000</td>\n",
              "      <td>1.000000</td>\n",
              "      <td>-19553.000000</td>\n",
              "      <td>-3174.500000</td>\n",
              "      <td>1.0</td>\n",
              "      <td>0.000000</td>\n",
              "      <td>0.000000</td>\n",
              "      <td>0.000000</td>\n",
              "      <td>3.000000</td>\n",
              "      <td>2.000000</td>\n",
              "      <td>0.000000</td>\n",
              "    </tr>\n",
              "    <tr>\n",
              "      <th>50%</th>\n",
              "      <td>5.078842e+06</td>\n",
              "      <td>0.000000</td>\n",
              "      <td>1.000000</td>\n",
              "      <td>0.000000</td>\n",
              "      <td>1.665000e+05</td>\n",
              "      <td>3.000000</td>\n",
              "      <td>1.000000</td>\n",
              "      <td>1.000000</td>\n",
              "      <td>1.000000</td>\n",
              "      <td>-15661.500000</td>\n",
              "      <td>-1565.000000</td>\n",
              "      <td>1.0</td>\n",
              "      <td>0.000000</td>\n",
              "      <td>0.000000</td>\n",
              "      <td>0.000000</td>\n",
              "      <td>4.000000</td>\n",
              "      <td>2.000000</td>\n",
              "      <td>0.000000</td>\n",
              "    </tr>\n",
              "    <tr>\n",
              "      <th>75%</th>\n",
              "      <td>5.115673e+06</td>\n",
              "      <td>1.000000</td>\n",
              "      <td>1.000000</td>\n",
              "      <td>1.000000</td>\n",
              "      <td>2.250000e+05</td>\n",
              "      <td>3.000000</td>\n",
              "      <td>4.000000</td>\n",
              "      <td>2.000000</td>\n",
              "      <td>1.000000</td>\n",
              "      <td>-12417.000000</td>\n",
              "      <td>-431.750000</td>\n",
              "      <td>1.0</td>\n",
              "      <td>0.000000</td>\n",
              "      <td>1.000000</td>\n",
              "      <td>0.000000</td>\n",
              "      <td>7.000000</td>\n",
              "      <td>3.000000</td>\n",
              "      <td>0.000000</td>\n",
              "    </tr>\n",
              "    <tr>\n",
              "      <th>max</th>\n",
              "      <td>5.150412e+06</td>\n",
              "      <td>1.000000</td>\n",
              "      <td>1.000000</td>\n",
              "      <td>14.000000</td>\n",
              "      <td>1.575000e+06</td>\n",
              "      <td>4.000000</td>\n",
              "      <td>5.000000</td>\n",
              "      <td>5.000000</td>\n",
              "      <td>6.000000</td>\n",
              "      <td>-7705.000000</td>\n",
              "      <td>365243.000000</td>\n",
              "      <td>1.0</td>\n",
              "      <td>1.000000</td>\n",
              "      <td>1.000000</td>\n",
              "      <td>1.000000</td>\n",
              "      <td>18.000000</td>\n",
              "      <td>15.000000</td>\n",
              "      <td>1.000000</td>\n",
              "    </tr>\n",
              "  </tbody>\n",
              "</table>\n",
              "</div>\n",
              "    <div class=\"colab-df-buttons\">\n",
              "\n",
              "  <div class=\"colab-df-container\">\n",
              "    <button class=\"colab-df-convert\" onclick=\"convertToInteractive('df-ef79499c-a568-4be6-9937-30a2771deaef')\"\n",
              "            title=\"Convert this dataframe to an interactive table.\"\n",
              "            style=\"display:none;\">\n",
              "\n",
              "  <svg xmlns=\"http://www.w3.org/2000/svg\" height=\"24px\" viewBox=\"0 -960 960 960\">\n",
              "    <path d=\"M120-120v-720h720v720H120Zm60-500h600v-160H180v160Zm220 220h160v-160H400v160Zm0 220h160v-160H400v160ZM180-400h160v-160H180v160Zm440 0h160v-160H620v160ZM180-180h160v-160H180v160Zm440 0h160v-160H620v160Z\"/>\n",
              "  </svg>\n",
              "    </button>\n",
              "\n",
              "  <style>\n",
              "    .colab-df-container {\n",
              "      display:flex;\n",
              "      gap: 12px;\n",
              "    }\n",
              "\n",
              "    .colab-df-convert {\n",
              "      background-color: #E8F0FE;\n",
              "      border: none;\n",
              "      border-radius: 50%;\n",
              "      cursor: pointer;\n",
              "      display: none;\n",
              "      fill: #1967D2;\n",
              "      height: 32px;\n",
              "      padding: 0 0 0 0;\n",
              "      width: 32px;\n",
              "    }\n",
              "\n",
              "    .colab-df-convert:hover {\n",
              "      background-color: #E2EBFA;\n",
              "      box-shadow: 0px 1px 2px rgba(60, 64, 67, 0.3), 0px 1px 3px 1px rgba(60, 64, 67, 0.15);\n",
              "      fill: #174EA6;\n",
              "    }\n",
              "\n",
              "    .colab-df-buttons div {\n",
              "      margin-bottom: 4px;\n",
              "    }\n",
              "\n",
              "    [theme=dark] .colab-df-convert {\n",
              "      background-color: #3B4455;\n",
              "      fill: #D2E3FC;\n",
              "    }\n",
              "\n",
              "    [theme=dark] .colab-df-convert:hover {\n",
              "      background-color: #434B5C;\n",
              "      box-shadow: 0px 1px 3px 1px rgba(0, 0, 0, 0.15);\n",
              "      filter: drop-shadow(0px 1px 2px rgba(0, 0, 0, 0.3));\n",
              "      fill: #FFFFFF;\n",
              "    }\n",
              "  </style>\n",
              "\n",
              "    <script>\n",
              "      const buttonEl =\n",
              "        document.querySelector('#df-ef79499c-a568-4be6-9937-30a2771deaef button.colab-df-convert');\n",
              "      buttonEl.style.display =\n",
              "        google.colab.kernel.accessAllowed ? 'block' : 'none';\n",
              "\n",
              "      async function convertToInteractive(key) {\n",
              "        const element = document.querySelector('#df-ef79499c-a568-4be6-9937-30a2771deaef');\n",
              "        const dataTable =\n",
              "          await google.colab.kernel.invokeFunction('convertToInteractive',\n",
              "                                                    [key], {});\n",
              "        if (!dataTable) return;\n",
              "\n",
              "        const docLinkHtml = 'Like what you see? Visit the ' +\n",
              "          '<a target=\"_blank\" href=https://colab.research.google.com/notebooks/data_table.ipynb>data table notebook</a>'\n",
              "          + ' to learn more about interactive tables.';\n",
              "        element.innerHTML = '';\n",
              "        dataTable['output_type'] = 'display_data';\n",
              "        await google.colab.output.renderOutput(dataTable, element);\n",
              "        const docLink = document.createElement('div');\n",
              "        docLink.innerHTML = docLinkHtml;\n",
              "        element.appendChild(docLink);\n",
              "      }\n",
              "    </script>\n",
              "  </div>\n",
              "\n",
              "\n",
              "<div id=\"df-fe73bd42-c52a-4a67-ba5d-85be8aec261a\">\n",
              "  <button class=\"colab-df-quickchart\" onclick=\"quickchart('df-fe73bd42-c52a-4a67-ba5d-85be8aec261a')\"\n",
              "            title=\"Suggest charts\"\n",
              "            style=\"display:none;\">\n",
              "\n",
              "<svg xmlns=\"http://www.w3.org/2000/svg\" height=\"24px\"viewBox=\"0 0 24 24\"\n",
              "     width=\"24px\">\n",
              "    <g>\n",
              "        <path d=\"M19 3H5c-1.1 0-2 .9-2 2v14c0 1.1.9 2 2 2h14c1.1 0 2-.9 2-2V5c0-1.1-.9-2-2-2zM9 17H7v-7h2v7zm4 0h-2V7h2v10zm4 0h-2v-4h2v4z\"/>\n",
              "    </g>\n",
              "</svg>\n",
              "  </button>\n",
              "\n",
              "<style>\n",
              "  .colab-df-quickchart {\n",
              "      --bg-color: #E8F0FE;\n",
              "      --fill-color: #1967D2;\n",
              "      --hover-bg-color: #E2EBFA;\n",
              "      --hover-fill-color: #174EA6;\n",
              "      --disabled-fill-color: #AAA;\n",
              "      --disabled-bg-color: #DDD;\n",
              "  }\n",
              "\n",
              "  [theme=dark] .colab-df-quickchart {\n",
              "      --bg-color: #3B4455;\n",
              "      --fill-color: #D2E3FC;\n",
              "      --hover-bg-color: #434B5C;\n",
              "      --hover-fill-color: #FFFFFF;\n",
              "      --disabled-bg-color: #3B4455;\n",
              "      --disabled-fill-color: #666;\n",
              "  }\n",
              "\n",
              "  .colab-df-quickchart {\n",
              "    background-color: var(--bg-color);\n",
              "    border: none;\n",
              "    border-radius: 50%;\n",
              "    cursor: pointer;\n",
              "    display: none;\n",
              "    fill: var(--fill-color);\n",
              "    height: 32px;\n",
              "    padding: 0;\n",
              "    width: 32px;\n",
              "  }\n",
              "\n",
              "  .colab-df-quickchart:hover {\n",
              "    background-color: var(--hover-bg-color);\n",
              "    box-shadow: 0 1px 2px rgba(60, 64, 67, 0.3), 0 1px 3px 1px rgba(60, 64, 67, 0.15);\n",
              "    fill: var(--button-hover-fill-color);\n",
              "  }\n",
              "\n",
              "  .colab-df-quickchart-complete:disabled,\n",
              "  .colab-df-quickchart-complete:disabled:hover {\n",
              "    background-color: var(--disabled-bg-color);\n",
              "    fill: var(--disabled-fill-color);\n",
              "    box-shadow: none;\n",
              "  }\n",
              "\n",
              "  .colab-df-spinner {\n",
              "    border: 2px solid var(--fill-color);\n",
              "    border-color: transparent;\n",
              "    border-bottom-color: var(--fill-color);\n",
              "    animation:\n",
              "      spin 1s steps(1) infinite;\n",
              "  }\n",
              "\n",
              "  @keyframes spin {\n",
              "    0% {\n",
              "      border-color: transparent;\n",
              "      border-bottom-color: var(--fill-color);\n",
              "      border-left-color: var(--fill-color);\n",
              "    }\n",
              "    20% {\n",
              "      border-color: transparent;\n",
              "      border-left-color: var(--fill-color);\n",
              "      border-top-color: var(--fill-color);\n",
              "    }\n",
              "    30% {\n",
              "      border-color: transparent;\n",
              "      border-left-color: var(--fill-color);\n",
              "      border-top-color: var(--fill-color);\n",
              "      border-right-color: var(--fill-color);\n",
              "    }\n",
              "    40% {\n",
              "      border-color: transparent;\n",
              "      border-right-color: var(--fill-color);\n",
              "      border-top-color: var(--fill-color);\n",
              "    }\n",
              "    60% {\n",
              "      border-color: transparent;\n",
              "      border-right-color: var(--fill-color);\n",
              "    }\n",
              "    80% {\n",
              "      border-color: transparent;\n",
              "      border-right-color: var(--fill-color);\n",
              "      border-bottom-color: var(--fill-color);\n",
              "    }\n",
              "    90% {\n",
              "      border-color: transparent;\n",
              "      border-bottom-color: var(--fill-color);\n",
              "    }\n",
              "  }\n",
              "</style>\n",
              "\n",
              "  <script>\n",
              "    async function quickchart(key) {\n",
              "      const quickchartButtonEl =\n",
              "        document.querySelector('#' + key + ' button');\n",
              "      quickchartButtonEl.disabled = true;  // To prevent multiple clicks.\n",
              "      quickchartButtonEl.classList.add('colab-df-spinner');\n",
              "      try {\n",
              "        const charts = await google.colab.kernel.invokeFunction(\n",
              "            'suggestCharts', [key], {});\n",
              "      } catch (error) {\n",
              "        console.error('Error during call to suggestCharts:', error);\n",
              "      }\n",
              "      quickchartButtonEl.classList.remove('colab-df-spinner');\n",
              "      quickchartButtonEl.classList.add('colab-df-quickchart-complete');\n",
              "    }\n",
              "    (() => {\n",
              "      let quickchartButtonEl =\n",
              "        document.querySelector('#df-fe73bd42-c52a-4a67-ba5d-85be8aec261a button');\n",
              "      quickchartButtonEl.style.display =\n",
              "        google.colab.kernel.accessAllowed ? 'block' : 'none';\n",
              "    })();\n",
              "  </script>\n",
              "</div>\n",
              "\n",
              "    </div>\n",
              "  </div>\n"
            ],
            "text/plain": [
              "             Ind_ID    Car_Owner  Propert_Owner     CHILDREN  Annual_income  \\\n",
              "count  1.548000e+03  1548.000000    1548.000000  1548.000000   1.525000e+03   \n",
              "mean   5.078920e+06     0.403101       0.652455     0.412791   1.913993e+05   \n",
              "std    4.171759e+04     0.490679       0.476345     0.776691   1.132530e+05   \n",
              "min    5.008827e+06     0.000000       0.000000     0.000000   3.375000e+04   \n",
              "25%    5.045070e+06     0.000000       0.000000     0.000000   1.215000e+05   \n",
              "50%    5.078842e+06     0.000000       1.000000     0.000000   1.665000e+05   \n",
              "75%    5.115673e+06     1.000000       1.000000     1.000000   2.250000e+05   \n",
              "max    5.150412e+06     1.000000       1.000000    14.000000   1.575000e+06   \n",
              "\n",
              "       Type_Income    EDUCATION  Marital_status  Housing_type  Birthday_count  \\\n",
              "count  1548.000000  1548.000000     1548.000000   1548.000000     1526.000000   \n",
              "mean      2.491602     2.029716        1.656977      1.223514   -16040.342071   \n",
              "std       0.864771     1.475206        1.144633      0.749343     4229.503202   \n",
              "min       1.000000     1.000000        1.000000      1.000000   -24946.000000   \n",
              "25%       2.000000     1.000000        1.000000      1.000000   -19553.000000   \n",
              "50%       3.000000     1.000000        1.000000      1.000000   -15661.500000   \n",
              "75%       3.000000     4.000000        2.000000      1.000000   -12417.000000   \n",
              "max       4.000000     5.000000        5.000000      6.000000    -7705.000000   \n",
              "\n",
              "       Employed_days  Mobile_phone   Work_Phone        Phone     EMAIL_ID  \\\n",
              "count    1548.000000        1548.0  1548.000000  1548.000000  1548.000000   \n",
              "mean    59364.689922           1.0     0.208010     0.309432     0.092377   \n",
              "std    137808.062701           0.0     0.406015     0.462409     0.289651   \n",
              "min    -14887.000000           1.0     0.000000     0.000000     0.000000   \n",
              "25%     -3174.500000           1.0     0.000000     0.000000     0.000000   \n",
              "50%     -1565.000000           1.0     0.000000     0.000000     0.000000   \n",
              "75%      -431.750000           1.0     0.000000     1.000000     0.000000   \n",
              "max    365243.000000           1.0     1.000000     1.000000     1.000000   \n",
              "\n",
              "       Type_Occupation  Family_Members        label  \n",
              "count      1060.000000     1548.000000  1548.000000  \n",
              "mean          5.385849        2.161499     0.113049  \n",
              "std           3.896827        0.947772     0.316755  \n",
              "min           1.000000        1.000000     0.000000  \n",
              "25%           3.000000        2.000000     0.000000  \n",
              "50%           4.000000        2.000000     0.000000  \n",
              "75%           7.000000        3.000000     0.000000  \n",
              "max          18.000000       15.000000     1.000000  "
            ]
          },
          "execution_count": 87,
          "metadata": {},
          "output_type": "execute_result"
        }
      ],
      "source": [
        "new_df.describe()"
      ]
    },
    {
      "cell_type": "markdown",
      "metadata": {},
      "source": [
        "Filling the null value with female value in gender column"
      ]
    },
    {
      "cell_type": "code",
      "execution_count": 91,
      "metadata": {
        "colab": {
          "base_uri": "https://localhost:8080/"
        },
        "id": "eEA5s7gaNnlK",
        "outputId": "66291c53-45b5-4219-a2be-79dd09052bf1"
      },
      "outputs": [
        {
          "data": {
            "text/plain": [
              "array([1., 2.])"
            ]
          },
          "execution_count": 91,
          "metadata": {},
          "output_type": "execute_result"
        }
      ],
      "source": [
        "new_df['GENDER']=new_df['GENDER'].fillna(2.0)\n",
        "new_df['GENDER'].unique()"
      ]
    },
    {
      "cell_type": "code",
      "execution_count": 93,
      "metadata": {
        "colab": {
          "base_uri": "https://localhost:8080/"
        },
        "id": "Tg5wIff8QuWp",
        "outputId": "f3322c59-65d3-4944-c333-8375b761c9b7"
      },
      "outputs": [
        {
          "data": {
            "text/plain": [
              "0       1\n",
              "1       2\n",
              "2       2\n",
              "3       2\n",
              "4       2\n",
              "       ..\n",
              "1543    2\n",
              "1544    2\n",
              "1545    1\n",
              "1546    1\n",
              "1547    2\n",
              "Name: GENDER, Length: 1548, dtype: int64"
            ]
          },
          "execution_count": 93,
          "metadata": {},
          "output_type": "execute_result"
        }
      ],
      "source": [
        "new_df['GENDER']=new_df['GENDER'].astype(int)\n",
        "new_df['GENDER']"
      ]
    },
    {
      "cell_type": "code",
      "execution_count": 94,
      "metadata": {
        "colab": {
          "base_uri": "https://localhost:8080/"
        },
        "id": "QomKO_WxUMXu",
        "outputId": "0986266c-5c1e-4e02-db85-b24682a112b7"
      },
      "outputs": [
        {
          "name": "stdout",
          "output_type": "stream",
          "text": [
            "<class 'pandas.core.frame.DataFrame'>\n",
            "Int64Index: 1548 entries, 0 to 1547\n",
            "Data columns (total 19 columns):\n",
            " #   Column           Non-Null Count  Dtype  \n",
            "---  ------           --------------  -----  \n",
            " 0   Ind_ID           1548 non-null   int64  \n",
            " 1   GENDER           1548 non-null   int64  \n",
            " 2   Car_Owner        1548 non-null   int64  \n",
            " 3   Propert_Owner    1548 non-null   int64  \n",
            " 4   CHILDREN         1548 non-null   int64  \n",
            " 5   Annual_income    1525 non-null   float64\n",
            " 6   Type_Income      1548 non-null   int64  \n",
            " 7   EDUCATION        1548 non-null   int64  \n",
            " 8   Marital_status   1548 non-null   int64  \n",
            " 9   Housing_type     1548 non-null   int64  \n",
            " 10  Birthday_count   1526 non-null   float64\n",
            " 11  Employed_days    1548 non-null   int64  \n",
            " 12  Mobile_phone     1548 non-null   int64  \n",
            " 13  Work_Phone       1548 non-null   int64  \n",
            " 14  Phone            1548 non-null   int64  \n",
            " 15  EMAIL_ID         1548 non-null   int64  \n",
            " 16  Type_Occupation  1060 non-null   float64\n",
            " 17  Family_Members   1548 non-null   int64  \n",
            " 18  label            1548 non-null   int64  \n",
            "dtypes: float64(3), int64(16)\n",
            "memory usage: 241.9 KB\n"
          ]
        }
      ],
      "source": [
        "new_df.info()"
      ]
    },
    {
      "cell_type": "code",
      "execution_count": 95,
      "metadata": {
        "colab": {
          "base_uri": "https://localhost:8080/",
          "height": 443
        },
        "id": "6SvjX5Uxfomc",
        "outputId": "a2bdc563-e38f-464c-aa9a-9698ef2f0e03"
      },
      "outputs": [
        {
          "data": {
            "text/html": [
              "\n",
              "  <div id=\"df-5c023fb9-d9ac-4fd9-b36e-ae0578db000b\" class=\"colab-df-container\">\n",
              "    <div>\n",
              "<style scoped>\n",
              "    .dataframe tbody tr th:only-of-type {\n",
              "        vertical-align: middle;\n",
              "    }\n",
              "\n",
              "    .dataframe tbody tr th {\n",
              "        vertical-align: top;\n",
              "    }\n",
              "\n",
              "    .dataframe thead th {\n",
              "        text-align: right;\n",
              "    }\n",
              "</style>\n",
              "<table border=\"1\" class=\"dataframe\">\n",
              "  <thead>\n",
              "    <tr style=\"text-align: right;\">\n",
              "      <th></th>\n",
              "      <th>Ind_ID</th>\n",
              "      <th>GENDER</th>\n",
              "      <th>Car_Owner</th>\n",
              "      <th>Propert_Owner</th>\n",
              "      <th>CHILDREN</th>\n",
              "      <th>Annual_income</th>\n",
              "      <th>Type_Income</th>\n",
              "      <th>EDUCATION</th>\n",
              "      <th>Marital_status</th>\n",
              "      <th>Housing_type</th>\n",
              "      <th>Birthday_count</th>\n",
              "      <th>Employed_days</th>\n",
              "      <th>Mobile_phone</th>\n",
              "      <th>Work_Phone</th>\n",
              "      <th>Phone</th>\n",
              "      <th>EMAIL_ID</th>\n",
              "      <th>Type_Occupation</th>\n",
              "      <th>Family_Members</th>\n",
              "      <th>label</th>\n",
              "    </tr>\n",
              "  </thead>\n",
              "  <tbody>\n",
              "    <tr>\n",
              "      <th>0</th>\n",
              "      <td>5008827</td>\n",
              "      <td>1</td>\n",
              "      <td>1</td>\n",
              "      <td>1</td>\n",
              "      <td>0</td>\n",
              "      <td>180000.0</td>\n",
              "      <td>1</td>\n",
              "      <td>4</td>\n",
              "      <td>1</td>\n",
              "      <td>1</td>\n",
              "      <td>-18772.0</td>\n",
              "      <td>365243</td>\n",
              "      <td>1</td>\n",
              "      <td>0</td>\n",
              "      <td>0</td>\n",
              "      <td>0</td>\n",
              "      <td>NaN</td>\n",
              "      <td>2</td>\n",
              "      <td>1</td>\n",
              "    </tr>\n",
              "    <tr>\n",
              "      <th>1</th>\n",
              "      <td>5009744</td>\n",
              "      <td>2</td>\n",
              "      <td>1</td>\n",
              "      <td>0</td>\n",
              "      <td>0</td>\n",
              "      <td>315000.0</td>\n",
              "      <td>2</td>\n",
              "      <td>4</td>\n",
              "      <td>1</td>\n",
              "      <td>1</td>\n",
              "      <td>-13557.0</td>\n",
              "      <td>-586</td>\n",
              "      <td>1</td>\n",
              "      <td>1</td>\n",
              "      <td>1</td>\n",
              "      <td>0</td>\n",
              "      <td>NaN</td>\n",
              "      <td>2</td>\n",
              "      <td>1</td>\n",
              "    </tr>\n",
              "    <tr>\n",
              "      <th>2</th>\n",
              "      <td>5009746</td>\n",
              "      <td>2</td>\n",
              "      <td>1</td>\n",
              "      <td>0</td>\n",
              "      <td>0</td>\n",
              "      <td>315000.0</td>\n",
              "      <td>2</td>\n",
              "      <td>4</td>\n",
              "      <td>1</td>\n",
              "      <td>1</td>\n",
              "      <td>NaN</td>\n",
              "      <td>-586</td>\n",
              "      <td>1</td>\n",
              "      <td>1</td>\n",
              "      <td>1</td>\n",
              "      <td>0</td>\n",
              "      <td>NaN</td>\n",
              "      <td>2</td>\n",
              "      <td>1</td>\n",
              "    </tr>\n",
              "    <tr>\n",
              "      <th>3</th>\n",
              "      <td>5009749</td>\n",
              "      <td>2</td>\n",
              "      <td>1</td>\n",
              "      <td>0</td>\n",
              "      <td>0</td>\n",
              "      <td>NaN</td>\n",
              "      <td>2</td>\n",
              "      <td>4</td>\n",
              "      <td>1</td>\n",
              "      <td>1</td>\n",
              "      <td>-13557.0</td>\n",
              "      <td>-586</td>\n",
              "      <td>1</td>\n",
              "      <td>1</td>\n",
              "      <td>1</td>\n",
              "      <td>0</td>\n",
              "      <td>NaN</td>\n",
              "      <td>2</td>\n",
              "      <td>1</td>\n",
              "    </tr>\n",
              "    <tr>\n",
              "      <th>4</th>\n",
              "      <td>5009752</td>\n",
              "      <td>2</td>\n",
              "      <td>1</td>\n",
              "      <td>0</td>\n",
              "      <td>0</td>\n",
              "      <td>315000.0</td>\n",
              "      <td>2</td>\n",
              "      <td>4</td>\n",
              "      <td>1</td>\n",
              "      <td>1</td>\n",
              "      <td>-13557.0</td>\n",
              "      <td>-586</td>\n",
              "      <td>1</td>\n",
              "      <td>1</td>\n",
              "      <td>1</td>\n",
              "      <td>0</td>\n",
              "      <td>NaN</td>\n",
              "      <td>2</td>\n",
              "      <td>1</td>\n",
              "    </tr>\n",
              "    <tr>\n",
              "      <th>...</th>\n",
              "      <td>...</td>\n",
              "      <td>...</td>\n",
              "      <td>...</td>\n",
              "      <td>...</td>\n",
              "      <td>...</td>\n",
              "      <td>...</td>\n",
              "      <td>...</td>\n",
              "      <td>...</td>\n",
              "      <td>...</td>\n",
              "      <td>...</td>\n",
              "      <td>...</td>\n",
              "      <td>...</td>\n",
              "      <td>...</td>\n",
              "      <td>...</td>\n",
              "      <td>...</td>\n",
              "      <td>...</td>\n",
              "      <td>...</td>\n",
              "      <td>...</td>\n",
              "      <td>...</td>\n",
              "    </tr>\n",
              "    <tr>\n",
              "      <th>1543</th>\n",
              "      <td>5028645</td>\n",
              "      <td>2</td>\n",
              "      <td>0</td>\n",
              "      <td>1</td>\n",
              "      <td>0</td>\n",
              "      <td>NaN</td>\n",
              "      <td>2</td>\n",
              "      <td>4</td>\n",
              "      <td>1</td>\n",
              "      <td>1</td>\n",
              "      <td>-11957.0</td>\n",
              "      <td>-2182</td>\n",
              "      <td>1</td>\n",
              "      <td>0</td>\n",
              "      <td>0</td>\n",
              "      <td>0</td>\n",
              "      <td>7.0</td>\n",
              "      <td>2</td>\n",
              "      <td>0</td>\n",
              "    </tr>\n",
              "    <tr>\n",
              "      <th>1544</th>\n",
              "      <td>5023655</td>\n",
              "      <td>2</td>\n",
              "      <td>0</td>\n",
              "      <td>0</td>\n",
              "      <td>0</td>\n",
              "      <td>225000.0</td>\n",
              "      <td>2</td>\n",
              "      <td>5</td>\n",
              "      <td>2</td>\n",
              "      <td>1</td>\n",
              "      <td>-10229.0</td>\n",
              "      <td>-1209</td>\n",
              "      <td>1</td>\n",
              "      <td>0</td>\n",
              "      <td>0</td>\n",
              "      <td>0</td>\n",
              "      <td>5.0</td>\n",
              "      <td>1</td>\n",
              "      <td>0</td>\n",
              "    </tr>\n",
              "    <tr>\n",
              "      <th>1545</th>\n",
              "      <td>5115992</td>\n",
              "      <td>1</td>\n",
              "      <td>1</td>\n",
              "      <td>1</td>\n",
              "      <td>2</td>\n",
              "      <td>180000.0</td>\n",
              "      <td>3</td>\n",
              "      <td>4</td>\n",
              "      <td>1</td>\n",
              "      <td>1</td>\n",
              "      <td>-13174.0</td>\n",
              "      <td>-2477</td>\n",
              "      <td>1</td>\n",
              "      <td>0</td>\n",
              "      <td>0</td>\n",
              "      <td>0</td>\n",
              "      <td>7.0</td>\n",
              "      <td>4</td>\n",
              "      <td>0</td>\n",
              "    </tr>\n",
              "    <tr>\n",
              "      <th>1546</th>\n",
              "      <td>5118219</td>\n",
              "      <td>1</td>\n",
              "      <td>1</td>\n",
              "      <td>0</td>\n",
              "      <td>0</td>\n",
              "      <td>270000.0</td>\n",
              "      <td>3</td>\n",
              "      <td>1</td>\n",
              "      <td>3</td>\n",
              "      <td>1</td>\n",
              "      <td>-15292.0</td>\n",
              "      <td>-645</td>\n",
              "      <td>1</td>\n",
              "      <td>1</td>\n",
              "      <td>1</td>\n",
              "      <td>0</td>\n",
              "      <td>9.0</td>\n",
              "      <td>2</td>\n",
              "      <td>0</td>\n",
              "    </tr>\n",
              "    <tr>\n",
              "      <th>1547</th>\n",
              "      <td>5053790</td>\n",
              "      <td>2</td>\n",
              "      <td>1</td>\n",
              "      <td>1</td>\n",
              "      <td>0</td>\n",
              "      <td>225000.0</td>\n",
              "      <td>3</td>\n",
              "      <td>4</td>\n",
              "      <td>1</td>\n",
              "      <td>1</td>\n",
              "      <td>-16601.0</td>\n",
              "      <td>-2859</td>\n",
              "      <td>1</td>\n",
              "      <td>0</td>\n",
              "      <td>0</td>\n",
              "      <td>0</td>\n",
              "      <td>NaN</td>\n",
              "      <td>2</td>\n",
              "      <td>0</td>\n",
              "    </tr>\n",
              "  </tbody>\n",
              "</table>\n",
              "<p>1548 rows × 19 columns</p>\n",
              "</div>\n",
              "    <div class=\"colab-df-buttons\">\n",
              "\n",
              "  <div class=\"colab-df-container\">\n",
              "    <button class=\"colab-df-convert\" onclick=\"convertToInteractive('df-5c023fb9-d9ac-4fd9-b36e-ae0578db000b')\"\n",
              "            title=\"Convert this dataframe to an interactive table.\"\n",
              "            style=\"display:none;\">\n",
              "\n",
              "  <svg xmlns=\"http://www.w3.org/2000/svg\" height=\"24px\" viewBox=\"0 -960 960 960\">\n",
              "    <path d=\"M120-120v-720h720v720H120Zm60-500h600v-160H180v160Zm220 220h160v-160H400v160Zm0 220h160v-160H400v160ZM180-400h160v-160H180v160Zm440 0h160v-160H620v160ZM180-180h160v-160H180v160Zm440 0h160v-160H620v160Z\"/>\n",
              "  </svg>\n",
              "    </button>\n",
              "\n",
              "  <style>\n",
              "    .colab-df-container {\n",
              "      display:flex;\n",
              "      gap: 12px;\n",
              "    }\n",
              "\n",
              "    .colab-df-convert {\n",
              "      background-color: #E8F0FE;\n",
              "      border: none;\n",
              "      border-radius: 50%;\n",
              "      cursor: pointer;\n",
              "      display: none;\n",
              "      fill: #1967D2;\n",
              "      height: 32px;\n",
              "      padding: 0 0 0 0;\n",
              "      width: 32px;\n",
              "    }\n",
              "\n",
              "    .colab-df-convert:hover {\n",
              "      background-color: #E2EBFA;\n",
              "      box-shadow: 0px 1px 2px rgba(60, 64, 67, 0.3), 0px 1px 3px 1px rgba(60, 64, 67, 0.15);\n",
              "      fill: #174EA6;\n",
              "    }\n",
              "\n",
              "    .colab-df-buttons div {\n",
              "      margin-bottom: 4px;\n",
              "    }\n",
              "\n",
              "    [theme=dark] .colab-df-convert {\n",
              "      background-color: #3B4455;\n",
              "      fill: #D2E3FC;\n",
              "    }\n",
              "\n",
              "    [theme=dark] .colab-df-convert:hover {\n",
              "      background-color: #434B5C;\n",
              "      box-shadow: 0px 1px 3px 1px rgba(0, 0, 0, 0.15);\n",
              "      filter: drop-shadow(0px 1px 2px rgba(0, 0, 0, 0.3));\n",
              "      fill: #FFFFFF;\n",
              "    }\n",
              "  </style>\n",
              "\n",
              "    <script>\n",
              "      const buttonEl =\n",
              "        document.querySelector('#df-5c023fb9-d9ac-4fd9-b36e-ae0578db000b button.colab-df-convert');\n",
              "      buttonEl.style.display =\n",
              "        google.colab.kernel.accessAllowed ? 'block' : 'none';\n",
              "\n",
              "      async function convertToInteractive(key) {\n",
              "        const element = document.querySelector('#df-5c023fb9-d9ac-4fd9-b36e-ae0578db000b');\n",
              "        const dataTable =\n",
              "          await google.colab.kernel.invokeFunction('convertToInteractive',\n",
              "                                                    [key], {});\n",
              "        if (!dataTable) return;\n",
              "\n",
              "        const docLinkHtml = 'Like what you see? Visit the ' +\n",
              "          '<a target=\"_blank\" href=https://colab.research.google.com/notebooks/data_table.ipynb>data table notebook</a>'\n",
              "          + ' to learn more about interactive tables.';\n",
              "        element.innerHTML = '';\n",
              "        dataTable['output_type'] = 'display_data';\n",
              "        await google.colab.output.renderOutput(dataTable, element);\n",
              "        const docLink = document.createElement('div');\n",
              "        docLink.innerHTML = docLinkHtml;\n",
              "        element.appendChild(docLink);\n",
              "      }\n",
              "    </script>\n",
              "  </div>\n",
              "\n",
              "\n",
              "<div id=\"df-a40cb890-1237-4e3e-b231-53e330f642da\">\n",
              "  <button class=\"colab-df-quickchart\" onclick=\"quickchart('df-a40cb890-1237-4e3e-b231-53e330f642da')\"\n",
              "            title=\"Suggest charts\"\n",
              "            style=\"display:none;\">\n",
              "\n",
              "<svg xmlns=\"http://www.w3.org/2000/svg\" height=\"24px\"viewBox=\"0 0 24 24\"\n",
              "     width=\"24px\">\n",
              "    <g>\n",
              "        <path d=\"M19 3H5c-1.1 0-2 .9-2 2v14c0 1.1.9 2 2 2h14c1.1 0 2-.9 2-2V5c0-1.1-.9-2-2-2zM9 17H7v-7h2v7zm4 0h-2V7h2v10zm4 0h-2v-4h2v4z\"/>\n",
              "    </g>\n",
              "</svg>\n",
              "  </button>\n",
              "\n",
              "<style>\n",
              "  .colab-df-quickchart {\n",
              "      --bg-color: #E8F0FE;\n",
              "      --fill-color: #1967D2;\n",
              "      --hover-bg-color: #E2EBFA;\n",
              "      --hover-fill-color: #174EA6;\n",
              "      --disabled-fill-color: #AAA;\n",
              "      --disabled-bg-color: #DDD;\n",
              "  }\n",
              "\n",
              "  [theme=dark] .colab-df-quickchart {\n",
              "      --bg-color: #3B4455;\n",
              "      --fill-color: #D2E3FC;\n",
              "      --hover-bg-color: #434B5C;\n",
              "      --hover-fill-color: #FFFFFF;\n",
              "      --disabled-bg-color: #3B4455;\n",
              "      --disabled-fill-color: #666;\n",
              "  }\n",
              "\n",
              "  .colab-df-quickchart {\n",
              "    background-color: var(--bg-color);\n",
              "    border: none;\n",
              "    border-radius: 50%;\n",
              "    cursor: pointer;\n",
              "    display: none;\n",
              "    fill: var(--fill-color);\n",
              "    height: 32px;\n",
              "    padding: 0;\n",
              "    width: 32px;\n",
              "  }\n",
              "\n",
              "  .colab-df-quickchart:hover {\n",
              "    background-color: var(--hover-bg-color);\n",
              "    box-shadow: 0 1px 2px rgba(60, 64, 67, 0.3), 0 1px 3px 1px rgba(60, 64, 67, 0.15);\n",
              "    fill: var(--button-hover-fill-color);\n",
              "  }\n",
              "\n",
              "  .colab-df-quickchart-complete:disabled,\n",
              "  .colab-df-quickchart-complete:disabled:hover {\n",
              "    background-color: var(--disabled-bg-color);\n",
              "    fill: var(--disabled-fill-color);\n",
              "    box-shadow: none;\n",
              "  }\n",
              "\n",
              "  .colab-df-spinner {\n",
              "    border: 2px solid var(--fill-color);\n",
              "    border-color: transparent;\n",
              "    border-bottom-color: var(--fill-color);\n",
              "    animation:\n",
              "      spin 1s steps(1) infinite;\n",
              "  }\n",
              "\n",
              "  @keyframes spin {\n",
              "    0% {\n",
              "      border-color: transparent;\n",
              "      border-bottom-color: var(--fill-color);\n",
              "      border-left-color: var(--fill-color);\n",
              "    }\n",
              "    20% {\n",
              "      border-color: transparent;\n",
              "      border-left-color: var(--fill-color);\n",
              "      border-top-color: var(--fill-color);\n",
              "    }\n",
              "    30% {\n",
              "      border-color: transparent;\n",
              "      border-left-color: var(--fill-color);\n",
              "      border-top-color: var(--fill-color);\n",
              "      border-right-color: var(--fill-color);\n",
              "    }\n",
              "    40% {\n",
              "      border-color: transparent;\n",
              "      border-right-color: var(--fill-color);\n",
              "      border-top-color: var(--fill-color);\n",
              "    }\n",
              "    60% {\n",
              "      border-color: transparent;\n",
              "      border-right-color: var(--fill-color);\n",
              "    }\n",
              "    80% {\n",
              "      border-color: transparent;\n",
              "      border-right-color: var(--fill-color);\n",
              "      border-bottom-color: var(--fill-color);\n",
              "    }\n",
              "    90% {\n",
              "      border-color: transparent;\n",
              "      border-bottom-color: var(--fill-color);\n",
              "    }\n",
              "  }\n",
              "</style>\n",
              "\n",
              "  <script>\n",
              "    async function quickchart(key) {\n",
              "      const quickchartButtonEl =\n",
              "        document.querySelector('#' + key + ' button');\n",
              "      quickchartButtonEl.disabled = true;  // To prevent multiple clicks.\n",
              "      quickchartButtonEl.classList.add('colab-df-spinner');\n",
              "      try {\n",
              "        const charts = await google.colab.kernel.invokeFunction(\n",
              "            'suggestCharts', [key], {});\n",
              "      } catch (error) {\n",
              "        console.error('Error during call to suggestCharts:', error);\n",
              "      }\n",
              "      quickchartButtonEl.classList.remove('colab-df-spinner');\n",
              "      quickchartButtonEl.classList.add('colab-df-quickchart-complete');\n",
              "    }\n",
              "    (() => {\n",
              "      let quickchartButtonEl =\n",
              "        document.querySelector('#df-a40cb890-1237-4e3e-b231-53e330f642da button');\n",
              "      quickchartButtonEl.style.display =\n",
              "        google.colab.kernel.accessAllowed ? 'block' : 'none';\n",
              "    })();\n",
              "  </script>\n",
              "</div>\n",
              "\n",
              "  <div id=\"id_2622d94a-e6a7-4440-8228-cc0ae48d1c06\">\n",
              "    <style>\n",
              "      .colab-df-generate {\n",
              "        background-color: #E8F0FE;\n",
              "        border: none;\n",
              "        border-radius: 50%;\n",
              "        cursor: pointer;\n",
              "        display: none;\n",
              "        fill: #1967D2;\n",
              "        height: 32px;\n",
              "        padding: 0 0 0 0;\n",
              "        width: 32px;\n",
              "      }\n",
              "\n",
              "      .colab-df-generate:hover {\n",
              "        background-color: #E2EBFA;\n",
              "        box-shadow: 0px 1px 2px rgba(60, 64, 67, 0.3), 0px 1px 3px 1px rgba(60, 64, 67, 0.15);\n",
              "        fill: #174EA6;\n",
              "      }\n",
              "\n",
              "      [theme=dark] .colab-df-generate {\n",
              "        background-color: #3B4455;\n",
              "        fill: #D2E3FC;\n",
              "      }\n",
              "\n",
              "      [theme=dark] .colab-df-generate:hover {\n",
              "        background-color: #434B5C;\n",
              "        box-shadow: 0px 1px 3px 1px rgba(0, 0, 0, 0.15);\n",
              "        filter: drop-shadow(0px 1px 2px rgba(0, 0, 0, 0.3));\n",
              "        fill: #FFFFFF;\n",
              "      }\n",
              "    </style>\n",
              "    <button class=\"colab-df-generate\" onclick=\"generateWithVariable('new_df')\"\n",
              "            title=\"Generate code using this dataframe.\"\n",
              "            style=\"display:none;\">\n",
              "\n",
              "  <svg xmlns=\"http://www.w3.org/2000/svg\" height=\"24px\"viewBox=\"0 0 24 24\"\n",
              "       width=\"24px\">\n",
              "    <path d=\"M7,19H8.4L18.45,9,17,7.55,7,17.6ZM5,21V16.75L18.45,3.32a2,2,0,0,1,2.83,0l1.4,1.43a1.91,1.91,0,0,1,.58,1.4,1.91,1.91,0,0,1-.58,1.4L9.25,21ZM18.45,9,17,7.55Zm-12,3A5.31,5.31,0,0,0,4.9,8.1,5.31,5.31,0,0,0,1,6.5,5.31,5.31,0,0,0,4.9,4.9,5.31,5.31,0,0,0,6.5,1,5.31,5.31,0,0,0,8.1,4.9,5.31,5.31,0,0,0,12,6.5,5.46,5.46,0,0,0,6.5,12Z\"/>\n",
              "  </svg>\n",
              "    </button>\n",
              "    <script>\n",
              "      (() => {\n",
              "      const buttonEl =\n",
              "        document.querySelector('#id_2622d94a-e6a7-4440-8228-cc0ae48d1c06 button.colab-df-generate');\n",
              "      buttonEl.style.display =\n",
              "        google.colab.kernel.accessAllowed ? 'block' : 'none';\n",
              "\n",
              "      buttonEl.onclick = () => {\n",
              "        google.colab.notebook.generateWithVariable('new_df');\n",
              "      }\n",
              "      })();\n",
              "    </script>\n",
              "  </div>\n",
              "\n",
              "    </div>\n",
              "  </div>\n"
            ],
            "text/plain": [
              "       Ind_ID  GENDER  Car_Owner  Propert_Owner  CHILDREN  Annual_income  \\\n",
              "0     5008827       1          1              1         0       180000.0   \n",
              "1     5009744       2          1              0         0       315000.0   \n",
              "2     5009746       2          1              0         0       315000.0   \n",
              "3     5009749       2          1              0         0            NaN   \n",
              "4     5009752       2          1              0         0       315000.0   \n",
              "...       ...     ...        ...            ...       ...            ...   \n",
              "1543  5028645       2          0              1         0            NaN   \n",
              "1544  5023655       2          0              0         0       225000.0   \n",
              "1545  5115992       1          1              1         2       180000.0   \n",
              "1546  5118219       1          1              0         0       270000.0   \n",
              "1547  5053790       2          1              1         0       225000.0   \n",
              "\n",
              "      Type_Income  EDUCATION  Marital_status  Housing_type  Birthday_count  \\\n",
              "0               1          4               1             1        -18772.0   \n",
              "1               2          4               1             1        -13557.0   \n",
              "2               2          4               1             1             NaN   \n",
              "3               2          4               1             1        -13557.0   \n",
              "4               2          4               1             1        -13557.0   \n",
              "...           ...        ...             ...           ...             ...   \n",
              "1543            2          4               1             1        -11957.0   \n",
              "1544            2          5               2             1        -10229.0   \n",
              "1545            3          4               1             1        -13174.0   \n",
              "1546            3          1               3             1        -15292.0   \n",
              "1547            3          4               1             1        -16601.0   \n",
              "\n",
              "      Employed_days  Mobile_phone  Work_Phone  Phone  EMAIL_ID  \\\n",
              "0            365243             1           0      0         0   \n",
              "1              -586             1           1      1         0   \n",
              "2              -586             1           1      1         0   \n",
              "3              -586             1           1      1         0   \n",
              "4              -586             1           1      1         0   \n",
              "...             ...           ...         ...    ...       ...   \n",
              "1543          -2182             1           0      0         0   \n",
              "1544          -1209             1           0      0         0   \n",
              "1545          -2477             1           0      0         0   \n",
              "1546           -645             1           1      1         0   \n",
              "1547          -2859             1           0      0         0   \n",
              "\n",
              "      Type_Occupation  Family_Members  label  \n",
              "0                 NaN               2      1  \n",
              "1                 NaN               2      1  \n",
              "2                 NaN               2      1  \n",
              "3                 NaN               2      1  \n",
              "4                 NaN               2      1  \n",
              "...               ...             ...    ...  \n",
              "1543              7.0               2      0  \n",
              "1544              5.0               1      0  \n",
              "1545              7.0               4      0  \n",
              "1546              9.0               2      0  \n",
              "1547              NaN               2      0  \n",
              "\n",
              "[1548 rows x 19 columns]"
            ]
          },
          "execution_count": 95,
          "metadata": {},
          "output_type": "execute_result"
        }
      ],
      "source": [
        "new_df"
      ]
    },
    {
      "cell_type": "code",
      "execution_count": 96,
      "metadata": {
        "colab": {
          "base_uri": "https://localhost:8080/"
        },
        "id": "9ujqFH_CgP8c",
        "outputId": "7630a0c0-2563-4320-c02b-02c2dd6039df"
      },
      "outputs": [
        {
          "data": {
            "text/plain": [
              "Ind_ID               0\n",
              "GENDER               0\n",
              "Car_Owner            0\n",
              "Propert_Owner        0\n",
              "CHILDREN             0\n",
              "Annual_income       23\n",
              "Type_Income          0\n",
              "EDUCATION            0\n",
              "Marital_status       0\n",
              "Housing_type         0\n",
              "Birthday_count      22\n",
              "Employed_days        0\n",
              "Mobile_phone         0\n",
              "Work_Phone           0\n",
              "Phone                0\n",
              "EMAIL_ID             0\n",
              "Type_Occupation    488\n",
              "Family_Members       0\n",
              "label                0\n",
              "dtype: int64"
            ]
          },
          "execution_count": 96,
          "metadata": {},
          "output_type": "execute_result"
        }
      ],
      "source": [
        "new_df.isnull().sum()"
      ]
    },
    {
      "cell_type": "markdown",
      "metadata": {
        "id": "SEOpAKv6EtHi"
      },
      "source": [
        "Replacing null values of Annual income value with average value"
      ]
    },
    {
      "cell_type": "code",
      "execution_count": 97,
      "metadata": {
        "id": "V0T6puxigZe4"
      },
      "outputs": [],
      "source": [
        "new_df['Annual_income']=new_df['Annual_income'].fillna(new_df['Annual_income'].mean())"
      ]
    },
    {
      "cell_type": "markdown",
      "metadata": {
        "id": "zN-9AVkIE33y"
      },
      "source": [
        "Replacing null values of Birthday_count value with max value"
      ]
    },
    {
      "cell_type": "code",
      "execution_count": 98,
      "metadata": {
        "id": "ZpPcwTC4g_KH"
      },
      "outputs": [],
      "source": [
        "new_df['Birthday_count']=new_df['Birthday_count'].fillna(max(new_df['Birthday_count']))"
      ]
    },
    {
      "cell_type": "markdown",
      "metadata": {
        "id": "BN3o54jVFH_d"
      },
      "source": [
        "Replacing null values of Type_occupation value with max value"
      ]
    },
    {
      "cell_type": "code",
      "execution_count": 99,
      "metadata": {
        "id": "Yk_nLZrqhPjN"
      },
      "outputs": [],
      "source": [
        "new_df['Type_Occupation']=new_df['Type_Occupation'].fillna(3.0)"
      ]
    },
    {
      "cell_type": "code",
      "execution_count": 100,
      "metadata": {
        "id": "Hg1jFSD2igOf"
      },
      "outputs": [],
      "source": [
        "new_df['Type_Occupation']=new_df['Type_Occupation'].astype('int')"
      ]
    },
    {
      "cell_type": "markdown",
      "metadata": {
        "id": "q2Vl4iNSFL1j"
      },
      "source": [
        "Now checking the information of new_df whether null values are present after replacing with new values"
      ]
    },
    {
      "cell_type": "code",
      "execution_count": 101,
      "metadata": {
        "colab": {
          "base_uri": "https://localhost:8080/"
        },
        "id": "rBzUg1XhiWGs",
        "outputId": "d0912eda-d243-4cfa-ba3c-bb0587acf0c9"
      },
      "outputs": [
        {
          "name": "stdout",
          "output_type": "stream",
          "text": [
            "<class 'pandas.core.frame.DataFrame'>\n",
            "Int64Index: 1548 entries, 0 to 1547\n",
            "Data columns (total 19 columns):\n",
            " #   Column           Non-Null Count  Dtype  \n",
            "---  ------           --------------  -----  \n",
            " 0   Ind_ID           1548 non-null   int64  \n",
            " 1   GENDER           1548 non-null   int64  \n",
            " 2   Car_Owner        1548 non-null   int64  \n",
            " 3   Propert_Owner    1548 non-null   int64  \n",
            " 4   CHILDREN         1548 non-null   int64  \n",
            " 5   Annual_income    1548 non-null   float64\n",
            " 6   Type_Income      1548 non-null   int64  \n",
            " 7   EDUCATION        1548 non-null   int64  \n",
            " 8   Marital_status   1548 non-null   int64  \n",
            " 9   Housing_type     1548 non-null   int64  \n",
            " 10  Birthday_count   1548 non-null   float64\n",
            " 11  Employed_days    1548 non-null   int64  \n",
            " 12  Mobile_phone     1548 non-null   int64  \n",
            " 13  Work_Phone       1548 non-null   int64  \n",
            " 14  Phone            1548 non-null   int64  \n",
            " 15  EMAIL_ID         1548 non-null   int64  \n",
            " 16  Type_Occupation  1548 non-null   int64  \n",
            " 17  Family_Members   1548 non-null   int64  \n",
            " 18  label            1548 non-null   int64  \n",
            "dtypes: float64(2), int64(17)\n",
            "memory usage: 241.9 KB\n"
          ]
        }
      ],
      "source": [
        "new_df.info()"
      ]
    },
    {
      "cell_type": "code",
      "execution_count": 102,
      "metadata": {
        "colab": {
          "base_uri": "https://localhost:8080/"
        },
        "id": "w9X5RRR3lN0b",
        "outputId": "95fbc1fe-d4c6-49ea-ba1b-27f509095ba3"
      },
      "outputs": [
        {
          "data": {
            "text/plain": [
              "Ind_ID             0\n",
              "GENDER             0\n",
              "Car_Owner          0\n",
              "Propert_Owner      0\n",
              "CHILDREN           0\n",
              "Annual_income      0\n",
              "Type_Income        0\n",
              "EDUCATION          0\n",
              "Marital_status     0\n",
              "Housing_type       0\n",
              "Birthday_count     0\n",
              "Employed_days      0\n",
              "Mobile_phone       0\n",
              "Work_Phone         0\n",
              "Phone              0\n",
              "EMAIL_ID           0\n",
              "Type_Occupation    0\n",
              "Family_Members     0\n",
              "label              0\n",
              "dtype: int64"
            ]
          },
          "execution_count": 102,
          "metadata": {},
          "output_type": "execute_result"
        }
      ],
      "source": [
        "new_df.isnull().sum()"
      ]
    },
    {
      "cell_type": "markdown",
      "metadata": {
        "id": "eBGJpmUtFYUM"
      },
      "source": [
        "visualizing barplot using seaborn module\n",
        "Here 'Type_Occupation' column is labelled against 'label' column based on gender. Credit card approval percentage is more for female than male\n",
        "with respect to Occupation type ."
      ]
    },
    {
      "cell_type": "code",
      "execution_count": 104,
      "metadata": {
        "colab": {
          "base_uri": "https://localhost:8080/",
          "height": 467
        },
        "id": "0rRqGtlcl-yM",
        "outputId": "012cb9b2-3ea2-4599-a9b1-3c2f18d5cc17"
      },
      "outputs": [
        {
          "data": {
            "text/plain": [
              "<Axes: xlabel='Type_Occupation', ylabel='label'>"
            ]
          },
          "execution_count": 104,
          "metadata": {},
          "output_type": "execute_result"
        },
        {
          "data": {
            "image/png": "[encoded data removed]",
            "text/plain": [
              "<Figure size 640x480 with 1 Axes>"
            ]
          },
          "metadata": {},
          "output_type": "display_data"
        }
      ],
      "source": [
        "import seaborn as sns\n",
        "## Visualization of Purchase with occupation\n",
        "sns.barplot(x='Type_Occupation',y='label',hue='GENDER',data=new_df)"
      ]
    },
    {
      "cell_type": "markdown",
      "metadata": {
        "id": "J9iY69xoGLwu"
      },
      "source": [
        "visualizing barplot using seaborn module\n",
        "Here 'Car_Owner' column is labelled against 'label' column based on gender.Credit card approval percentage is more for female than male\n",
        "with respect to Car_owner column ."
      ]
    },
    {
      "cell_type": "code",
      "execution_count": 105,
      "metadata": {
        "colab": {
          "base_uri": "https://localhost:8080/",
          "height": 466
        },
        "id": "1svSrzX6pHCl",
        "outputId": "549515ad-9ce6-4e95-9e65-c2be0ad02299"
      },
      "outputs": [
        {
          "data": {
            "text/plain": [
              "<Axes: xlabel='Car_Owner', ylabel='label'>"
            ]
          },
          "execution_count": 105,
          "metadata": {},
          "output_type": "execute_result"
        },
        {
          "data": {
            "image/png": "[encoded data removed]",
            "text/plain": [
              "<Figure size 640x480 with 1 Axes>"
            ]
          },
          "metadata": {},
          "output_type": "display_data"
        }
      ],
      "source": [
        "import seaborn as sns\n",
        "## Visualization of Purchase with occupation\n",
        "sns.barplot(x='Car_Owner',y='label',hue='GENDER',data=new_df)"
      ]
    },
    {
      "cell_type": "markdown",
      "metadata": {
        "id": "eLiERBJmGjHa"
      },
      "source": [
        "visualizing barplot using seaborn module\n",
        "Here 'Housing type' column is labelled against 'label' column based on gender. Credit card approval percentage is more for female than male\n",
        "with respect to Housing type variable ."
      ]
    },
    {
      "cell_type": "code",
      "execution_count": 106,
      "metadata": {
        "colab": {
          "base_uri": "https://localhost:8080/",
          "height": 467
        },
        "id": "xDCCFSQApZkI",
        "outputId": "314db5f5-51d5-46d6-f3ca-0afe3a346a9a"
      },
      "outputs": [
        {
          "data": {
            "text/plain": [
              "<Axes: xlabel='Housing_type', ylabel='label'>"
            ]
          },
          "execution_count": 106,
          "metadata": {},
          "output_type": "execute_result"
        },
        {
          "data": {
            "image/png": "[encoded data removed]",
            "text/plain": [
              "<Figure size 640x480 with 1 Axes>"
            ]
          },
          "metadata": {},
          "output_type": "display_data"
        }
      ],
      "source": [
        "sns.barplot(x='Housing_type',y='label',hue='GENDER',data=new_df)"
      ]
    },
    {
      "cell_type": "markdown",
      "metadata": {
        "id": "CzDg-p7zHNpV"
      },
      "source": [
        "From the given Distibution we can conclude that Annual income is rightly skewed"
      ]
    },
    {
      "cell_type": "code",
      "execution_count": 107,
      "metadata": {
        "colab": {
          "base_uri": "https://localhost:8080/",
          "height": 489
        },
        "id": "UUe74exYpra6",
        "outputId": "d86fe83d-cf6b-4a46-b5aa-1f1100cd5af4"
      },
      "outputs": [
        {
          "data": {
            "text/plain": [
              "<Axes: title={'center': 'Distribution of housing_median_age'}, xlabel='Annual_income', ylabel='Count'>"
            ]
          },
          "execution_count": 107,
          "metadata": {},
          "output_type": "execute_result"
        },
        {
          "data": {
            "image/png": "[encoded data removed]",
            "text/plain": [
              "<Figure size 640x480 with 1 Axes>"
            ]
          },
          "metadata": {},
          "output_type": "display_data"
        }
      ],
      "source": [
        "import matplotlib.pyplot as plt\n",
        "import numpy as np\n",
        "import seaborn as sns\n",
        "plt.title(\"Distribution of Annual income\")\n",
        "sns.histplot(new_df['Annual_income'],kde=True)"
      ]
    },
    {
      "cell_type": "markdown",
      "metadata": {
        "id": "_-1joIMxHXtZ"
      },
      "source": [
        "From the given Distibution we can conclude that Type of occupation is rightly skewed"
      ]
    },
    {
      "cell_type": "code",
      "execution_count": 109,
      "metadata": {
        "colab": {
          "base_uri": "https://localhost:8080/",
          "height": 467
        },
        "id": "LjfdR0Rn_Fy_",
        "outputId": "190e8c48-eaef-423b-9eb0-7f699f9b1048"
      },
      "outputs": [
        {
          "data": {
            "text/plain": [
              "<Axes: xlabel='Type_Occupation', ylabel='Count'>"
            ]
          },
          "execution_count": 109,
          "metadata": {},
          "output_type": "execute_result"
        },
        {
          "data": {
            "image/png": "[encoded data removed]",
            "text/plain": [
              "<Figure size 640x480 with 1 Axes>"
            ]
          },
          "metadata": {},
          "output_type": "display_data"
        }
      ],
      "source": [
        "import matplotlib.pyplot as plt\n",
        "import numpy as np\n",
        "import seaborn as sns\n",
        "import time\n",
        "sns.histplot(new_df['Type_Occupation'],kde=True)"
      ]
    },
    {
      "cell_type": "markdown",
      "metadata": {
        "id": "cizDD3-oHcgC"
      },
      "source": [
        "Correlation matrix to find how two two variables are correlated"
      ]
    },
    {
      "cell_type": "code",
      "execution_count": 110,
      "metadata": {
        "colab": {
          "base_uri": "https://localhost:8080/",
          "height": 556
        },
        "id": "amapwQ8W86RZ",
        "outputId": "b3c3c63f-0ae3-4db6-8f5d-509df8d35a94"
      },
      "outputs": [
        {
          "data": {
            "text/plain": [
              "<Axes: >"
            ]
          },
          "execution_count": 110,
          "metadata": {},
          "output_type": "execute_result"
        },
        {
          "data": {
            "image/png": "[encoded data removed]",
            "text/plain": [
              "<Figure size 640x480 with 2 Axes>"
            ]
          },
          "metadata": {},
          "output_type": "display_data"
        }
      ],
      "source": [
        "import seaborn as sns\n",
        "sns.heatmap(new_df.corr())"
      ]
    },
    {
      "cell_type": "markdown",
      "metadata": {},
      "source": [
        "Section 2 - Feature Selection Techniques"
      ]
    },
    {
      "cell_type": "markdown",
      "metadata": {
        "id": "WGKPfIo7HkS_"
      },
      "source": [
        "Using chi quare test to find out whether Mobile_phone column has any relation with output variable label. Here P values is taken as 0.05\n",
        "( Determined my domain expert). Usually if the P value lies within 97% of normal distribtion is accepted . So i have taken p value as 0.05.\n",
        "From the calculation it clearly shows Mobile phone variable had no relation with output variable label"
      ]
    },
    {
      "cell_type": "code",
      "execution_count": 111,
      "metadata": {
        "colab": {
          "base_uri": "https://localhost:8080/"
        },
        "id": "RWV7wfwaeG3o",
        "outputId": "a9f7db78-c50b-4891-f92d-10003a1579fa"
      },
      "outputs": [
        {
          "name": "stdout",
          "output_type": "stream",
          "text": [
            "label            0    1\n",
            "Mobile_phone           \n",
            "1             1373  175\n",
            "[[1373  175]]\n",
            "Observed Values :-\n",
            " [[1373  175]]\n",
            "Chi2ContingencyResult(statistic=0.0, pvalue=1.0, dof=0, expected_freq=array([[1373.,  175.]]))\n",
            "Degree of Freedom:- 0\n",
            "chi-square statistic:- 0.0\n",
            "critical_value: nan\n",
            "p-value: nan\n",
            "Significance level:  0.05\n",
            "Degree of Freedom:  0\n",
            "p-value: nan\n",
            "Retain H0,There is no relationship between 2 categorical variables\n",
            "Retain H0,There is no relationship between 2 categorical variables\n"
          ]
        }
      ],
      "source": [
        "import scipy.stats as stats\n",
        "from scipy.stats import chi2\n",
        "dataset_table=pd.crosstab(df['Mobile_phone'],df1['label'])\n",
        "print(dataset_table)\n",
        "print(dataset_table.values)\n",
        "#Observed Values\n",
        "Observed_Values = dataset_table.values\n",
        "print(\"Observed Values :-\\n\",Observed_Values)\n",
        "val=stats.chi2_contingency(dataset_table)\n",
        "print(val)\n",
        "Expected_Values=val[3]\n",
        "no_of_rows=len(dataset_table.iloc[0:2,0])\n",
        "no_of_columns=len(dataset_table.iloc[0,0:2])\n",
        "ddof=(no_of_rows-1)*(no_of_columns-1)\n",
        "print(\"Degree of Freedom:-\",ddof)\n",
        "alpha = 0.05\n",
        "chi_square=sum([(o-e)**2./e for o,e in zip(Observed_Values,Expected_Values)])\n",
        "chi_square_statistic=chi_square[0]+chi_square[1]\n",
        "print(\"chi-square statistic:-\",chi_square_statistic)\n",
        "critical_value=chi2.ppf(q=1-alpha,df=ddof)\n",
        "print('critical_value:',critical_value)\n",
        "# p-value\n",
        "p_value=1-chi2.cdf(x=chi_square_statistic,df=ddof)\n",
        "print('p-value:',p_value)\n",
        "print('Significance level: ',alpha)\n",
        "print('Degree of Freedom: ',ddof)\n",
        "print('p-value:',p_value)\n",
        "if chi_square_statistic>=critical_value:\n",
        "    print(\"Reject H0,There is a relationship between 2 categorical variables\")\n",
        "else:\n",
        "    print(\"Retain H0,There is no relationship between 2 categorical variables\")\n",
        "\n",
        "if p_value<=alpha:\n",
        "    print(\"Reject H0,There is a relationship between 2 categorical variables\")\n",
        "else:\n",
        "    print(\"Retain H0,There is no relationship between 2 categorical variables\")"
      ]
    },
    {
      "cell_type": "markdown",
      "metadata": {
        "id": "RlLakMiCH4xb"
      },
      "source": [
        "Using chi quare test to find out whether EMAIL_ID column has any relation with output variable label. Here P values is taken as 0.05\n",
        "( Determined my domain expert). Usually if the P value lies within 97% of normal distribtion is accepted . So i have taken p value as 0.05.\n",
        "From the calculation it clearly shows Email_id column had no relation with output variable label"
      ]
    },
    {
      "cell_type": "code",
      "execution_count": 112,
      "metadata": {
        "colab": {
          "base_uri": "https://localhost:8080/"
        },
        "id": "TsjGP1LUeclO",
        "outputId": "825db40b-e3c8-4ffa-e0fb-37031bb06bc9"
      },
      "outputs": [
        {
          "name": "stdout",
          "output_type": "stream",
          "text": [
            "label        0    1\n",
            "EMAIL_ID           \n",
            "0         1248  157\n",
            "1          125   18\n",
            "[[1248  157]\n",
            " [ 125   18]]\n",
            "Observed Values :-\n",
            " [[1248  157]\n",
            " [ 125   18]]\n",
            "Chi2ContingencyResult(statistic=0.13673828251771455, pvalue=0.7115453763877984, dof=1, expected_freq=array([[1246.16602067,  158.83397933],\n",
            "       [ 126.83397933,   16.16602067]]))\n",
            "Degree of Freedom:- 1\n",
            "chi-square statistic:- 0.2584525335244881\n",
            "critical_value: 3.841458820694124\n",
            "p-value: 0.6111852835828315\n",
            "Significance level:  0.05\n",
            "Degree of Freedom:  1\n",
            "p-value: 0.6111852835828315\n",
            "Retain H0,There is no relationship between 2 categorical variables\n",
            "Retain H0,There is no relationship between 2 categorical variables\n"
          ]
        }
      ],
      "source": [
        "import scipy.stats as stats\n",
        "from scipy.stats import chi2\n",
        "dataset_table=pd.crosstab(df['EMAIL_ID'],df1['label'])\n",
        "print(dataset_table)\n",
        "print(dataset_table.values)\n",
        "#Observed Values\n",
        "Observed_Values = dataset_table.values\n",
        "print(\"Observed Values :-\\n\",Observed_Values)\n",
        "val=stats.chi2_contingency(dataset_table)\n",
        "print(val)\n",
        "Expected_Values=val[3]\n",
        "no_of_rows=len(dataset_table.iloc[0:2,0])\n",
        "no_of_columns=len(dataset_table.iloc[0,0:2])\n",
        "ddof=(no_of_rows-1)*(no_of_columns-1)\n",
        "print(\"Degree of Freedom:-\",ddof)\n",
        "alpha = 0.05\n",
        "chi_square=sum([(o-e)**2./e for o,e in zip(Observed_Values,Expected_Values)])\n",
        "chi_square_statistic=chi_square[0]+chi_square[1]\n",
        "print(\"chi-square statistic:-\",chi_square_statistic)\n",
        "critical_value=chi2.ppf(q=1-alpha,df=ddof)\n",
        "print('critical_value:',critical_value)\n",
        "# p-value\n",
        "p_value=1-chi2.cdf(x=chi_square_statistic,df=ddof)\n",
        "print('p-value:',p_value)\n",
        "print('Significance level: ',alpha)\n",
        "print('Degree of Freedom: ',ddof)\n",
        "print('p-value:',p_value)\n",
        "if chi_square_statistic>=critical_value:\n",
        "    print(\"Reject H0,There is a relationship between 2 categorical variables\")\n",
        "else:\n",
        "    print(\"Retain H0,There is no relationship between 2 categorical variables\")\n",
        "\n",
        "if p_value<=alpha:\n",
        "    print(\"Reject H0,There is a relationship between 2 categorical variables\")\n",
        "else:\n",
        "    print(\"Retain H0,There is no relationship between 2 categorical variables\")"
      ]
    },
    {
      "cell_type": "markdown",
      "metadata": {
        "id": "BeVzfV4JIgxy"
      },
      "source": [
        "Using chi quare test to find out whether Work_phone column has any relation with output variable label. Here P values is taken as 0.05\n",
        "( Determined my domain expert). Usually if the P value lies within 97% of normal distribtion is accepted . So i have taken p value as 0.05.\n",
        "From the calculation it clearly shows work phone variable had no relation with output variable label"
      ]
    },
    {
      "cell_type": "code",
      "execution_count": 113,
      "metadata": {
        "colab": {
          "base_uri": "https://localhost:8080/"
        },
        "id": "dTBYhbpLezRr",
        "outputId": "b7179bf7-56f5-4c5a-9c0b-19c70a1eefea"
      },
      "outputs": [
        {
          "name": "stdout",
          "output_type": "stream",
          "text": [
            "label          0    1\n",
            "Work_Phone           \n",
            "0           1086  140\n",
            "1            287   35\n",
            "[[1086  140]\n",
            " [ 287   35]]\n",
            "Observed Values :-\n",
            " [[1086  140]\n",
            " [ 287   35]]\n",
            "Chi2ContingencyResult(statistic=0.03180437497153464, pvalue=0.8584576855494042, dof=1, expected_freq=array([[1087.40180879,  138.59819121],\n",
            "       [ 285.59819121,   36.40180879]]))\n",
            "Degree of Freedom:- 1\n",
            "chi-square statistic:- 0.07684851792239968\n",
            "critical_value: 3.841458820694124\n",
            "p-value: 0.7816145215831092\n",
            "Significance level:  0.05\n",
            "Degree of Freedom:  1\n",
            "p-value: 0.7816145215831092\n",
            "Retain H0,There is no relationship between 2 categorical variables\n",
            "Retain H0,There is no relationship between 2 categorical variables\n"
          ]
        }
      ],
      "source": [
        "import scipy.stats as stats\n",
        "from scipy.stats import chi2\n",
        "dataset_table=pd.crosstab(df['Work_Phone'],df1['label'])\n",
        "print(dataset_table)\n",
        "print(dataset_table.values)\n",
        "#Observed Values\n",
        "Observed_Values = dataset_table.values\n",
        "print(\"Observed Values :-\\n\",Observed_Values)\n",
        "val=stats.chi2_contingency(dataset_table)\n",
        "print(val)\n",
        "Expected_Values=val[3]\n",
        "no_of_rows=len(dataset_table.iloc[0:2,0])\n",
        "no_of_columns=len(dataset_table.iloc[0,0:2])\n",
        "ddof=(no_of_rows-1)*(no_of_columns-1)\n",
        "print(\"Degree of Freedom:-\",ddof)\n",
        "alpha = 0.05\n",
        "chi_square=sum([(o-e)**2./e for o,e in zip(Observed_Values,Expected_Values)])\n",
        "chi_square_statistic=chi_square[0]+chi_square[1]\n",
        "print(\"chi-square statistic:-\",chi_square_statistic)\n",
        "critical_value=chi2.ppf(q=1-alpha,df=ddof)\n",
        "print('critical_value:',critical_value)\n",
        "# p-value\n",
        "p_value=1-chi2.cdf(x=chi_square_statistic,df=ddof)\n",
        "print('p-value:',p_value)\n",
        "print('Significance level: ',alpha)\n",
        "print('Degree of Freedom: ',ddof)\n",
        "print('p-value:',p_value)\n",
        "if chi_square_statistic>=critical_value:\n",
        "    print(\"Reject H0,There is a relationship between 2 categorical variables\")\n",
        "else:\n",
        "    print(\"Retain H0,There is no relationship between 2 categorical variables\")\n",
        "\n",
        "if p_value<=alpha:\n",
        "    print(\"Reject H0,There is a relationship between 2 categorical variables\")\n",
        "else:\n",
        "    print(\"Retain H0,There is no relationship between 2 categorical variables\")"
      ]
    },
    {
      "cell_type": "markdown",
      "metadata": {
        "id": "aGy-VVfXIuCo"
      },
      "source": [
        "Using chi quare test to find out whether phone column has any relation with output variable label. Here P values is taken as 0.05\n",
        "( Determined my domain expert). Usually if the P value lies within 97% of normal distribtion is accepted . So i have taken p value as 0.05.\n",
        "From the calculation it clearly shows phone column had no relation with output variable label"
      ]
    },
    {
      "cell_type": "code",
      "execution_count": 114,
      "metadata": {
        "colab": {
          "base_uri": "https://localhost:8080/"
        },
        "id": "lFTEkTDPiPd5",
        "outputId": "b6f499ad-48db-4cb3-83c1-f8aa67fe3200"
      },
      "outputs": [
        {
          "name": "stdout",
          "output_type": "stream",
          "text": [
            "label    0    1\n",
            "Phone          \n",
            "0      948  121\n",
            "1      425   54\n",
            "[[948 121]\n",
            " [425  54]]\n",
            "Observed Values :-\n",
            " [[948 121]\n",
            " [425  54]]\n",
            "Chi2ContingencyResult(statistic=0.0, pvalue=1.0, dof=1, expected_freq=array([[948.1505168, 120.8494832],\n",
            "       [424.8494832,  54.1505168]]))\n",
            "Degree of Freedom:- 1\n",
            "chi-square statistic:- 0.0006830633659059245\n",
            "critical_value: 3.841458820694124\n",
            "p-value: 0.9791492769937159\n",
            "Significance level:  0.05\n",
            "Degree of Freedom:  1\n",
            "p-value: 0.9791492769937159\n",
            "Retain H0,There is no relationship between 2 categorical variables\n",
            "Retain H0,There is no relationship between 2 categorical variables\n"
          ]
        }
      ],
      "source": [
        "import scipy.stats as stats\n",
        "from scipy.stats import chi2\n",
        "dataset_table=pd.crosstab(df['Phone'],df1['label'])\n",
        "print(dataset_table)\n",
        "print(dataset_table.values)\n",
        "#Observed Values\n",
        "Observed_Values = dataset_table.values\n",
        "print(\"Observed Values :-\\n\",Observed_Values)\n",
        "val=stats.chi2_contingency(dataset_table)\n",
        "print(val)\n",
        "Expected_Values=val[3]\n",
        "no_of_rows=len(dataset_table.iloc[0:2,0])\n",
        "no_of_columns=len(dataset_table.iloc[0,0:2])\n",
        "ddof=(no_of_rows-1)*(no_of_columns-1)\n",
        "print(\"Degree of Freedom:-\",ddof)\n",
        "alpha = 0.05\n",
        "chi_square=sum([(o-e)**2./e for o,e in zip(Observed_Values,Expected_Values)])\n",
        "chi_square_statistic=chi_square[0]+chi_square[1]\n",
        "print(\"chi-square statistic:-\",chi_square_statistic)\n",
        "critical_value=chi2.ppf(q=1-alpha,df=ddof)\n",
        "print('critical_value:',critical_value)\n",
        "# p-value\n",
        "p_value=1-chi2.cdf(x=chi_square_statistic,df=ddof)\n",
        "print('p-value:',p_value)\n",
        "print('Significance level: ',alpha)\n",
        "print('Degree of Freedom: ',ddof)\n",
        "print('p-value:',p_value)\n",
        "if chi_square_statistic>=critical_value:\n",
        "    print(\"Reject H0,There is a relationship between 2 categorical variables\")\n",
        "else:\n",
        "    print(\"Retain H0,There is no relationship between 2 categorical variables\")\n",
        "\n",
        "if p_value<=alpha:\n",
        "    print(\"Reject H0,There is a relationship between 2 categorical variables\")\n",
        "else:\n",
        "    print(\"Retain H0,There is no relationship between 2 categorical variables\")"
      ]
    },
    {
      "cell_type": "markdown",
      "metadata": {
        "id": "lPWB3qgkJFQH"
      },
      "source": [
        "SelectKbest and f_regression are the feature selection techniques which is provided by sklearn to determine how strongly each column is related with output variable. More the value higher the relationship between two varibles."
      ]
    },
    {
      "cell_type": "markdown",
      "metadata": {
        "id": "g_ZhQ6PQ8Qzk"
      },
      "source": [
        "**Feature Selection Technique**"
      ]
    },
    {
      "cell_type": "code",
      "execution_count": 115,
      "metadata": {
        "id": "WiFrSRKfi_7o"
      },
      "outputs": [],
      "source": [
        "import pandas as pd\n",
        "import numpy as np\n",
        "from sklearn.feature_selection import SelectKBest\n",
        "from sklearn.feature_selection import f_regression\n",
        "# data = pd.read_csv(\"train.csv\")\n",
        "X = new_df.iloc[:,0:18]  #independent columns\n",
        "y = new_df.iloc[:,-1]\n"
      ]
    },
    {
      "cell_type": "code",
      "execution_count": 116,
      "metadata": {
        "id": "LHpp-Dlplu7x"
      },
      "outputs": [],
      "source": [
        "#apply SelectKBest class to extract top 10 best features\n",
        "bestfeatures = SelectKBest(score_func=f_regression, k=10)\n",
        "fit = bestfeatures.fit(X,y)"
      ]
    },
    {
      "cell_type": "code",
      "execution_count": 117,
      "metadata": {
        "id": "ggXZEAHymhKK"
      },
      "outputs": [],
      "source": [
        "dfscores = pd.DataFrame(fit.scores_)\n",
        "dfcolumns = pd.DataFrame(X.columns)"
      ]
    },
    {
      "cell_type": "code",
      "execution_count": 118,
      "metadata": {
        "id": "jErC_iz1mkW-"
      },
      "outputs": [],
      "source": [
        "#concat two dataframes for better visualization\n",
        "featureScores = pd.concat([dfcolumns,dfscores],axis=1)\n",
        "featureScores.columns = ['Specs','Score']  #naming the dataframe columns"
      ]
    },
    {
      "cell_type": "code",
      "execution_count": 119,
      "metadata": {
        "colab": {
          "base_uri": "https://localhost:8080/",
          "height": 613
        },
        "id": "MhuwysFkmnT7",
        "outputId": "402aca58-f95a-4d91-abd5-1b176cb1ab2f"
      },
      "outputs": [
        {
          "data": {
            "text/html": [
              "\n",
              "  <div id=\"df-cebfd08f-f950-4fbe-bdf6-de8bd2dca3ab\" class=\"colab-df-container\">\n",
              "    <div>\n",
              "<style scoped>\n",
              "    .dataframe tbody tr th:only-of-type {\n",
              "        vertical-align: middle;\n",
              "    }\n",
              "\n",
              "    .dataframe tbody tr th {\n",
              "        vertical-align: top;\n",
              "    }\n",
              "\n",
              "    .dataframe thead th {\n",
              "        text-align: right;\n",
              "    }\n",
              "</style>\n",
              "<table border=\"1\" class=\"dataframe\">\n",
              "  <thead>\n",
              "    <tr style=\"text-align: right;\">\n",
              "      <th></th>\n",
              "      <th>Specs</th>\n",
              "      <th>Score</th>\n",
              "    </tr>\n",
              "  </thead>\n",
              "  <tbody>\n",
              "    <tr>\n",
              "      <th>0</th>\n",
              "      <td>Ind_ID</td>\n",
              "      <td>0.436279</td>\n",
              "    </tr>\n",
              "    <tr>\n",
              "      <th>1</th>\n",
              "      <td>GENDER</td>\n",
              "      <td>3.230472</td>\n",
              "    </tr>\n",
              "    <tr>\n",
              "      <th>2</th>\n",
              "      <td>Car_Owner</td>\n",
              "      <td>0.335686</td>\n",
              "    </tr>\n",
              "    <tr>\n",
              "      <th>3</th>\n",
              "      <td>Propert_Owner</td>\n",
              "      <td>0.495844</td>\n",
              "    </tr>\n",
              "    <tr>\n",
              "      <th>4</th>\n",
              "      <td>CHILDREN</td>\n",
              "      <td>0.724721</td>\n",
              "    </tr>\n",
              "    <tr>\n",
              "      <th>5</th>\n",
              "      <td>Annual_income</td>\n",
              "      <td>1.117399</td>\n",
              "    </tr>\n",
              "    <tr>\n",
              "      <th>6</th>\n",
              "      <td>Type_Income</td>\n",
              "      <td>13.227711</td>\n",
              "    </tr>\n",
              "    <tr>\n",
              "      <th>7</th>\n",
              "      <td>EDUCATION</td>\n",
              "      <td>0.835441</td>\n",
              "    </tr>\n",
              "    <tr>\n",
              "      <th>8</th>\n",
              "      <td>Marital_status</td>\n",
              "      <td>0.020232</td>\n",
              "    </tr>\n",
              "    <tr>\n",
              "      <th>9</th>\n",
              "      <td>Housing_type</td>\n",
              "      <td>18.458398</td>\n",
              "    </tr>\n",
              "    <tr>\n",
              "      <th>10</th>\n",
              "      <td>Birthday_count</td>\n",
              "      <td>3.216082</td>\n",
              "    </tr>\n",
              "    <tr>\n",
              "      <th>11</th>\n",
              "      <td>Employed_days</td>\n",
              "      <td>1.526605</td>\n",
              "    </tr>\n",
              "    <tr>\n",
              "      <th>12</th>\n",
              "      <td>Mobile_phone</td>\n",
              "      <td>0.000000</td>\n",
              "    </tr>\n",
              "    <tr>\n",
              "      <th>13</th>\n",
              "      <td>Work_Phone</td>\n",
              "      <td>0.076753</td>\n",
              "    </tr>\n",
              "    <tr>\n",
              "      <th>14</th>\n",
              "      <td>Phone</td>\n",
              "      <td>0.000682</td>\n",
              "    </tr>\n",
              "    <tr>\n",
              "      <th>15</th>\n",
              "      <td>EMAIL_ID</td>\n",
              "      <td>0.258162</td>\n",
              "    </tr>\n",
              "    <tr>\n",
              "      <th>16</th>\n",
              "      <td>Type_Occupation</td>\n",
              "      <td>0.290535</td>\n",
              "    </tr>\n",
              "    <tr>\n",
              "      <th>17</th>\n",
              "      <td>Family_Members</td>\n",
              "      <td>1.459357</td>\n",
              "    </tr>\n",
              "  </tbody>\n",
              "</table>\n",
              "</div>\n",
              "    <div class=\"colab-df-buttons\">\n",
              "\n",
              "  <div class=\"colab-df-container\">\n",
              "    <button class=\"colab-df-convert\" onclick=\"convertToInteractive('df-cebfd08f-f950-4fbe-bdf6-de8bd2dca3ab')\"\n",
              "            title=\"Convert this dataframe to an interactive table.\"\n",
              "            style=\"display:none;\">\n",
              "\n",
              "  <svg xmlns=\"http://www.w3.org/2000/svg\" height=\"24px\" viewBox=\"0 -960 960 960\">\n",
              "    <path d=\"M120-120v-720h720v720H120Zm60-500h600v-160H180v160Zm220 220h160v-160H400v160Zm0 220h160v-160H400v160ZM180-400h160v-160H180v160Zm440 0h160v-160H620v160ZM180-180h160v-160H180v160Zm440 0h160v-160H620v160Z\"/>\n",
              "  </svg>\n",
              "    </button>\n",
              "\n",
              "  <style>\n",
              "    .colab-df-container {\n",
              "      display:flex;\n",
              "      gap: 12px;\n",
              "    }\n",
              "\n",
              "    .colab-df-convert {\n",
              "      background-color: #E8F0FE;\n",
              "      border: none;\n",
              "      border-radius: 50%;\n",
              "      cursor: pointer;\n",
              "      display: none;\n",
              "      fill: #1967D2;\n",
              "      height: 32px;\n",
              "      padding: 0 0 0 0;\n",
              "      width: 32px;\n",
              "    }\n",
              "\n",
              "    .colab-df-convert:hover {\n",
              "      background-color: #E2EBFA;\n",
              "      box-shadow: 0px 1px 2px rgba(60, 64, 67, 0.3), 0px 1px 3px 1px rgba(60, 64, 67, 0.15);\n",
              "      fill: #174EA6;\n",
              "    }\n",
              "\n",
              "    .colab-df-buttons div {\n",
              "      margin-bottom: 4px;\n",
              "    }\n",
              "\n",
              "    [theme=dark] .colab-df-convert {\n",
              "      background-color: #3B4455;\n",
              "      fill: #D2E3FC;\n",
              "    }\n",
              "\n",
              "    [theme=dark] .colab-df-convert:hover {\n",
              "      background-color: #434B5C;\n",
              "      box-shadow: 0px 1px 3px 1px rgba(0, 0, 0, 0.15);\n",
              "      filter: drop-shadow(0px 1px 2px rgba(0, 0, 0, 0.3));\n",
              "      fill: #FFFFFF;\n",
              "    }\n",
              "  </style>\n",
              "\n",
              "    <script>\n",
              "      const buttonEl =\n",
              "        document.querySelector('#df-cebfd08f-f950-4fbe-bdf6-de8bd2dca3ab button.colab-df-convert');\n",
              "      buttonEl.style.display =\n",
              "        google.colab.kernel.accessAllowed ? 'block' : 'none';\n",
              "\n",
              "      async function convertToInteractive(key) {\n",
              "        const element = document.querySelector('#df-cebfd08f-f950-4fbe-bdf6-de8bd2dca3ab');\n",
              "        const dataTable =\n",
              "          await google.colab.kernel.invokeFunction('convertToInteractive',\n",
              "                                                    [key], {});\n",
              "        if (!dataTable) return;\n",
              "\n",
              "        const docLinkHtml = 'Like what you see? Visit the ' +\n",
              "          '<a target=\"_blank\" href=https://colab.research.google.com/notebooks/data_table.ipynb>data table notebook</a>'\n",
              "          + ' to learn more about interactive tables.';\n",
              "        element.innerHTML = '';\n",
              "        dataTable['output_type'] = 'display_data';\n",
              "        await google.colab.output.renderOutput(dataTable, element);\n",
              "        const docLink = document.createElement('div');\n",
              "        docLink.innerHTML = docLinkHtml;\n",
              "        element.appendChild(docLink);\n",
              "      }\n",
              "    </script>\n",
              "  </div>\n",
              "\n",
              "\n",
              "<div id=\"df-24b6fc36-e833-411b-94a6-1c40d1fd9dfa\">\n",
              "  <button class=\"colab-df-quickchart\" onclick=\"quickchart('df-24b6fc36-e833-411b-94a6-1c40d1fd9dfa')\"\n",
              "            title=\"Suggest charts\"\n",
              "            style=\"display:none;\">\n",
              "\n",
              "<svg xmlns=\"http://www.w3.org/2000/svg\" height=\"24px\"viewBox=\"0 0 24 24\"\n",
              "     width=\"24px\">\n",
              "    <g>\n",
              "        <path d=\"M19 3H5c-1.1 0-2 .9-2 2v14c0 1.1.9 2 2 2h14c1.1 0 2-.9 2-2V5c0-1.1-.9-2-2-2zM9 17H7v-7h2v7zm4 0h-2V7h2v10zm4 0h-2v-4h2v4z\"/>\n",
              "    </g>\n",
              "</svg>\n",
              "  </button>\n",
              "\n",
              "<style>\n",
              "  .colab-df-quickchart {\n",
              "      --bg-color: #E8F0FE;\n",
              "      --fill-color: #1967D2;\n",
              "      --hover-bg-color: #E2EBFA;\n",
              "      --hover-fill-color: #174EA6;\n",
              "      --disabled-fill-color: #AAA;\n",
              "      --disabled-bg-color: #DDD;\n",
              "  }\n",
              "\n",
              "  [theme=dark] .colab-df-quickchart {\n",
              "      --bg-color: #3B4455;\n",
              "      --fill-color: #D2E3FC;\n",
              "      --hover-bg-color: #434B5C;\n",
              "      --hover-fill-color: #FFFFFF;\n",
              "      --disabled-bg-color: #3B4455;\n",
              "      --disabled-fill-color: #666;\n",
              "  }\n",
              "\n",
              "  .colab-df-quickchart {\n",
              "    background-color: var(--bg-color);\n",
              "    border: none;\n",
              "    border-radius: 50%;\n",
              "    cursor: pointer;\n",
              "    display: none;\n",
              "    fill: var(--fill-color);\n",
              "    height: 32px;\n",
              "    padding: 0;\n",
              "    width: 32px;\n",
              "  }\n",
              "\n",
              "  .colab-df-quickchart:hover {\n",
              "    background-color: var(--hover-bg-color);\n",
              "    box-shadow: 0 1px 2px rgba(60, 64, 67, 0.3), 0 1px 3px 1px rgba(60, 64, 67, 0.15);\n",
              "    fill: var(--button-hover-fill-color);\n",
              "  }\n",
              "\n",
              "  .colab-df-quickchart-complete:disabled,\n",
              "  .colab-df-quickchart-complete:disabled:hover {\n",
              "    background-color: var(--disabled-bg-color);\n",
              "    fill: var(--disabled-fill-color);\n",
              "    box-shadow: none;\n",
              "  }\n",
              "\n",
              "  .colab-df-spinner {\n",
              "    border: 2px solid var(--fill-color);\n",
              "    border-color: transparent;\n",
              "    border-bottom-color: var(--fill-color);\n",
              "    animation:\n",
              "      spin 1s steps(1) infinite;\n",
              "  }\n",
              "\n",
              "  @keyframes spin {\n",
              "    0% {\n",
              "      border-color: transparent;\n",
              "      border-bottom-color: var(--fill-color);\n",
              "      border-left-color: var(--fill-color);\n",
              "    }\n",
              "    20% {\n",
              "      border-color: transparent;\n",
              "      border-left-color: var(--fill-color);\n",
              "      border-top-color: var(--fill-color);\n",
              "    }\n",
              "    30% {\n",
              "      border-color: transparent;\n",
              "      border-left-color: var(--fill-color);\n",
              "      border-top-color: var(--fill-color);\n",
              "      border-right-color: var(--fill-color);\n",
              "    }\n",
              "    40% {\n",
              "      border-color: transparent;\n",
              "      border-right-color: var(--fill-color);\n",
              "      border-top-color: var(--fill-color);\n",
              "    }\n",
              "    60% {\n",
              "      border-color: transparent;\n",
              "      border-right-color: var(--fill-color);\n",
              "    }\n",
              "    80% {\n",
              "      border-color: transparent;\n",
              "      border-right-color: var(--fill-color);\n",
              "      border-bottom-color: var(--fill-color);\n",
              "    }\n",
              "    90% {\n",
              "      border-color: transparent;\n",
              "      border-bottom-color: var(--fill-color);\n",
              "    }\n",
              "  }\n",
              "</style>\n",
              "\n",
              "  <script>\n",
              "    async function quickchart(key) {\n",
              "      const quickchartButtonEl =\n",
              "        document.querySelector('#' + key + ' button');\n",
              "      quickchartButtonEl.disabled = true;  // To prevent multiple clicks.\n",
              "      quickchartButtonEl.classList.add('colab-df-spinner');\n",
              "      try {\n",
              "        const charts = await google.colab.kernel.invokeFunction(\n",
              "            'suggestCharts', [key], {});\n",
              "      } catch (error) {\n",
              "        console.error('Error during call to suggestCharts:', error);\n",
              "      }\n",
              "      quickchartButtonEl.classList.remove('colab-df-spinner');\n",
              "      quickchartButtonEl.classList.add('colab-df-quickchart-complete');\n",
              "    }\n",
              "    (() => {\n",
              "      let quickchartButtonEl =\n",
              "        document.querySelector('#df-24b6fc36-e833-411b-94a6-1c40d1fd9dfa button');\n",
              "      quickchartButtonEl.style.display =\n",
              "        google.colab.kernel.accessAllowed ? 'block' : 'none';\n",
              "    })();\n",
              "  </script>\n",
              "</div>\n",
              "\n",
              "  <div id=\"id_d7130154-b4f2-4452-953d-71e5b41d883e\">\n",
              "    <style>\n",
              "      .colab-df-generate {\n",
              "        background-color: #E8F0FE;\n",
              "        border: none;\n",
              "        border-radius: 50%;\n",
              "        cursor: pointer;\n",
              "        display: none;\n",
              "        fill: #1967D2;\n",
              "        height: 32px;\n",
              "        padding: 0 0 0 0;\n",
              "        width: 32px;\n",
              "      }\n",
              "\n",
              "      .colab-df-generate:hover {\n",
              "        background-color: #E2EBFA;\n",
              "        box-shadow: 0px 1px 2px rgba(60, 64, 67, 0.3), 0px 1px 3px 1px rgba(60, 64, 67, 0.15);\n",
              "        fill: #174EA6;\n",
              "      }\n",
              "\n",
              "      [theme=dark] .colab-df-generate {\n",
              "        background-color: #3B4455;\n",
              "        fill: #D2E3FC;\n",
              "      }\n",
              "\n",
              "      [theme=dark] .colab-df-generate:hover {\n",
              "        background-color: #434B5C;\n",
              "        box-shadow: 0px 1px 3px 1px rgba(0, 0, 0, 0.15);\n",
              "        filter: drop-shadow(0px 1px 2px rgba(0, 0, 0, 0.3));\n",
              "        fill: #FFFFFF;\n",
              "      }\n",
              "    </style>\n",
              "    <button class=\"colab-df-generate\" onclick=\"generateWithVariable('featureScores')\"\n",
              "            title=\"Generate code using this dataframe.\"\n",
              "            style=\"display:none;\">\n",
              "\n",
              "  <svg xmlns=\"http://www.w3.org/2000/svg\" height=\"24px\"viewBox=\"0 0 24 24\"\n",
              "       width=\"24px\">\n",
              "    <path d=\"M7,19H8.4L18.45,9,17,7.55,7,17.6ZM5,21V16.75L18.45,3.32a2,2,0,0,1,2.83,0l1.4,1.43a1.91,1.91,0,0,1,.58,1.4,1.91,1.91,0,0,1-.58,1.4L9.25,21ZM18.45,9,17,7.55Zm-12,3A5.31,5.31,0,0,0,4.9,8.1,5.31,5.31,0,0,0,1,6.5,5.31,5.31,0,0,0,4.9,4.9,5.31,5.31,0,0,0,6.5,1,5.31,5.31,0,0,0,8.1,4.9,5.31,5.31,0,0,0,12,6.5,5.46,5.46,0,0,0,6.5,12Z\"/>\n",
              "  </svg>\n",
              "    </button>\n",
              "    <script>\n",
              "      (() => {\n",
              "      const buttonEl =\n",
              "        document.querySelector('#id_d7130154-b4f2-4452-953d-71e5b41d883e button.colab-df-generate');\n",
              "      buttonEl.style.display =\n",
              "        google.colab.kernel.accessAllowed ? 'block' : 'none';\n",
              "\n",
              "      buttonEl.onclick = () => {\n",
              "        google.colab.notebook.generateWithVariable('featureScores');\n",
              "      }\n",
              "      })();\n",
              "    </script>\n",
              "  </div>\n",
              "\n",
              "    </div>\n",
              "  </div>\n"
            ],
            "text/plain": [
              "              Specs      Score\n",
              "0            Ind_ID   0.436279\n",
              "1            GENDER   3.230472\n",
              "2         Car_Owner   0.335686\n",
              "3     Propert_Owner   0.495844\n",
              "4          CHILDREN   0.724721\n",
              "5     Annual_income   1.117399\n",
              "6       Type_Income  13.227711\n",
              "7         EDUCATION   0.835441\n",
              "8    Marital_status   0.020232\n",
              "9      Housing_type  18.458398\n",
              "10   Birthday_count   3.216082\n",
              "11    Employed_days   1.526605\n",
              "12     Mobile_phone   0.000000\n",
              "13       Work_Phone   0.076753\n",
              "14            Phone   0.000682\n",
              "15         EMAIL_ID   0.258162\n",
              "16  Type_Occupation   0.290535\n",
              "17   Family_Members   1.459357"
            ]
          },
          "execution_count": 119,
          "metadata": {},
          "output_type": "execute_result"
        }
      ],
      "source": [
        "featureScores"
      ]
    },
    {
      "cell_type": "markdown",
      "metadata": {
        "id": "on3R-54dJ2TE"
      },
      "source": [
        "Shows top 14 features"
      ]
    },
    {
      "cell_type": "code",
      "execution_count": 120,
      "metadata": {
        "colab": {
          "base_uri": "https://localhost:8080/"
        },
        "id": "Of70lYVnoHbq",
        "outputId": "40b0d0d2-3815-4004-dec3-443f2325df1e"
      },
      "outputs": [
        {
          "name": "stdout",
          "output_type": "stream",
          "text": [
            "              Specs      Score\n",
            "9      Housing_type  18.458398\n",
            "6       Type_Income  13.227711\n",
            "1            GENDER   3.230472\n",
            "10   Birthday_count   3.216082\n",
            "11    Employed_days   1.526605\n",
            "17   Family_Members   1.459357\n",
            "5     Annual_income   1.117399\n",
            "7         EDUCATION   0.835441\n",
            "4          CHILDREN   0.724721\n",
            "3     Propert_Owner   0.495844\n",
            "0            Ind_ID   0.436279\n",
            "2         Car_Owner   0.335686\n",
            "16  Type_Occupation   0.290535\n",
            "15         EMAIL_ID   0.258162\n"
          ]
        }
      ],
      "source": [
        "print(featureScores.nlargest(14,'Score'))"
      ]
    },
    {
      "cell_type": "markdown",
      "metadata": {
        "id": "wXe2OAitovYv"
      },
      "source": [
        "Feature importance is an inbuilt class that comes with Tree Based Classifiers, we will be using Extra Tree Classifier for extracting the top 10 features for the dataset."
      ]
    },
    {
      "cell_type": "code",
      "execution_count": 121,
      "metadata": {
        "colab": {
          "base_uri": "https://localhost:8080/",
          "height": 74
        },
        "id": "Svz5UddQozbB",
        "outputId": "d0a0c0f1-fa38-4748-e97d-2e1d6b5f50c1"
      },
      "outputs": [
        {
          "data": {
            "text/html": [
              "<style>#sk-container-id-2 {color: black;background-color: white;}#sk-container-id-2 pre{padding: 0;}#sk-container-id-2 div.sk-toggleable {background-color: white;}#sk-container-id-2 label.sk-toggleable__label {cursor: pointer;display: block;width: 100%;margin-bottom: 0;padding: 0.3em;box-sizing: border-box;text-align: center;}#sk-container-id-2 label.sk-toggleable__label-arrow:before {content: \"▸\";float: left;margin-right: 0.25em;color: #696969;}#sk-container-id-2 label.sk-toggleable__label-arrow:hover:before {color: black;}#sk-container-id-2 div.sk-estimator:hover label.sk-toggleable__label-arrow:before {color: black;}#sk-container-id-2 div.sk-toggleable__content {max-height: 0;max-width: 0;overflow: hidden;text-align: left;background-color: #f0f8ff;}#sk-container-id-2 div.sk-toggleable__content pre {margin: 0.2em;color: black;border-radius: 0.25em;background-color: #f0f8ff;}#sk-container-id-2 input.sk-toggleable__control:checked~div.sk-toggleable__content {max-height: 200px;max-width: 100%;overflow: auto;}#sk-container-id-2 input.sk-toggleable__control:checked~label.sk-toggleable__label-arrow:before {content: \"▾\";}#sk-container-id-2 div.sk-estimator input.sk-toggleable__control:checked~label.sk-toggleable__label {background-color: #d4ebff;}#sk-container-id-2 div.sk-label input.sk-toggleable__control:checked~label.sk-toggleable__label {background-color: #d4ebff;}#sk-container-id-2 input.sk-hidden--visually {border: 0;clip: rect(1px 1px 1px 1px);clip: rect(1px, 1px, 1px, 1px);height: 1px;margin: -1px;overflow: hidden;padding: 0;position: absolute;width: 1px;}#sk-container-id-2 div.sk-estimator {font-family: monospace;background-color: #f0f8ff;border: 1px dotted black;border-radius: 0.25em;box-sizing: border-box;margin-bottom: 0.5em;}#sk-container-id-2 div.sk-estimator:hover {background-color: #d4ebff;}#sk-container-id-2 div.sk-parallel-item::after {content: \"\";width: 100%;border-bottom: 1px solid gray;flex-grow: 1;}#sk-container-id-2 div.sk-label:hover label.sk-toggleable__label {background-color: #d4ebff;}#sk-container-id-2 div.sk-serial::before {content: \"\";position: absolute;border-left: 1px solid gray;box-sizing: border-box;top: 0;bottom: 0;left: 50%;z-index: 0;}#sk-container-id-2 div.sk-serial {display: flex;flex-direction: column;align-items: center;background-color: white;padding-right: 0.2em;padding-left: 0.2em;position: relative;}#sk-container-id-2 div.sk-item {position: relative;z-index: 1;}#sk-container-id-2 div.sk-parallel {display: flex;align-items: stretch;justify-content: center;background-color: white;position: relative;}#sk-container-id-2 div.sk-item::before, #sk-container-id-2 div.sk-parallel-item::before {content: \"\";position: absolute;border-left: 1px solid gray;box-sizing: border-box;top: 0;bottom: 0;left: 50%;z-index: -1;}#sk-container-id-2 div.sk-parallel-item {display: flex;flex-direction: column;z-index: 1;position: relative;background-color: white;}#sk-container-id-2 div.sk-parallel-item:first-child::after {align-self: flex-end;width: 50%;}#sk-container-id-2 div.sk-parallel-item:last-child::after {align-self: flex-start;width: 50%;}#sk-container-id-2 div.sk-parallel-item:only-child::after {width: 0;}#sk-container-id-2 div.sk-dashed-wrapped {border: 1px dashed gray;margin: 0 0.4em 0.5em 0.4em;box-sizing: border-box;padding-bottom: 0.4em;background-color: white;}#sk-container-id-2 div.sk-label label {font-family: monospace;font-weight: bold;display: inline-block;line-height: 1.2em;}#sk-container-id-2 div.sk-label-container {text-align: center;}#sk-container-id-2 div.sk-container {/* jupyter's `normalize.less` sets `[hidden] { display: none; }` but bootstrap.min.css set `[hidden] { display: none !important; }` so we also need the `!important` here to be able to override the default hidden behavior on the sphinx rendered scikit-learn.org. See: https://github.com/scikit-learn/scikit-learn/issues/21755 */display: inline-block !important;position: relative;}#sk-container-id-2 div.sk-text-repr-fallback {display: none;}</style><div id=\"sk-container-id-2\" class=\"sk-top-container\"><div class=\"sk-text-repr-fallback\"><pre>ExtraTreesClassifier()</pre><b>In a Jupyter environment, please rerun this cell to show the HTML representation or trust the notebook. <br />On GitHub, the HTML representation is unable to render, please try loading this page with nbviewer.org.</b></div><div class=\"sk-container\" hidden><div class=\"sk-item\"><div class=\"sk-estimator sk-toggleable\"><input class=\"sk-toggleable__control sk-hidden--visually\" id=\"sk-estimator-id-2\" type=\"checkbox\" checked><label for=\"sk-estimator-id-2\" class=\"sk-toggleable__label sk-toggleable__label-arrow\">ExtraTreesClassifier</label><div class=\"sk-toggleable__content\"><pre>ExtraTreesClassifier()</pre></div></div></div></div></div>"
            ],
            "text/plain": [
              "ExtraTreesClassifier()"
            ]
          },
          "execution_count": 121,
          "metadata": {},
          "output_type": "execute_result"
        }
      ],
      "source": [
        "from sklearn.ensemble import ExtraTreesClassifier\n",
        "import matplotlib.pyplot as plt\n",
        "model = ExtraTreesClassifier()\n",
        "model.fit(X,y)"
      ]
    },
    {
      "cell_type": "code",
      "execution_count": 122,
      "metadata": {
        "colab": {
          "base_uri": "https://localhost:8080/"
        },
        "id": "77SrBkFLo8II",
        "outputId": "62d7ac70-3c1c-4e2a-95ea-d7adcaebd1cf"
      },
      "outputs": [
        {
          "name": "stdout",
          "output_type": "stream",
          "text": [
            "Ind_ID             0.171488\n",
            "Annual_income      0.116249\n",
            "Birthday_count     0.112813\n",
            "Employed_days      0.086908\n",
            "Type_Occupation    0.068204\n",
            "Family_Members     0.051580\n",
            "Marital_status     0.049869\n",
            "Type_Income        0.046374\n",
            "EDUCATION          0.041275\n",
            "Car_Owner          0.039074\n",
            "Housing_type       0.038818\n",
            "Propert_Owner      0.033818\n",
            "CHILDREN           0.032330\n",
            "Work_Phone         0.031706\n",
            "dtype: float64\n"
          ]
        }
      ],
      "source": [
        "#shows top 14 features\n",
        "feat_importances = pd.Series(model.feature_importances_, index=X.columns)\n",
        "print(feat_importances.nlargest(14))"
      ]
    },
    {
      "cell_type": "code",
      "execution_count": 123,
      "metadata": {
        "colab": {
          "base_uri": "https://localhost:8080/"
        },
        "id": "AzLbOrH5pHuQ",
        "outputId": "ff976567-a3f4-43fe-9245-b08d0d497d28"
      },
      "outputs": [
        {
          "name": "stdout",
          "output_type": "stream",
          "text": [
            "              Specs      Score\n",
            "9      Housing_type  18.458398\n",
            "6       Type_Income  13.227711\n",
            "1            GENDER   3.230472\n",
            "10   Birthday_count   3.216082\n",
            "11    Employed_days   1.526605\n",
            "17   Family_Members   1.459357\n",
            "5     Annual_income   1.117399\n",
            "7         EDUCATION   0.835441\n",
            "4          CHILDREN   0.724721\n",
            "3     Propert_Owner   0.495844\n",
            "0            Ind_ID   0.436279\n",
            "2         Car_Owner   0.335686\n",
            "16  Type_Occupation   0.290535\n",
            "15         EMAIL_ID   0.258162\n"
          ]
        }
      ],
      "source": [
        "print(featureScores.nlargest(14,'Score'))"
      ]
    },
    {
      "cell_type": "markdown",
      "metadata": {
        "id": "yLMcFyXtKIqq"
      },
      "source": [
        "Using Extratree classifer, chi quare test and slectkbest feature selection techniques we came to conclusion that totally 11 varibles are important ie('Housing_type','Type_Income','Birthday_count','Employed_days','Family_Members','Annual_income','EDUCATION','CHILDREN','Propert_Owner','Car_Owner','Type_Occupation')"
      ]
    },
    {
      "cell_type": "code",
      "execution_count": 124,
      "metadata": {
        "id": "0mnAW29PyO4p"
      },
      "outputs": [],
      "source": [
        "f_dataframe=new_df[['Housing_type','Type_Income','Birthday_count','Employed_days','Family_Members','Annual_income','EDUCATION','CHILDREN','Propert_Owner','Car_Owner','Type_Occupation']]"
      ]
    },
    {
      "cell_type": "code",
      "execution_count": 126,
      "metadata": {
        "id": "aXe3h0hk1CS1"
      },
      "outputs": [],
      "source": [
        "X=f_dataframe.iloc[:,0:11]\n",
        "y=new_df['label']"
      ]
    },
    {
      "cell_type": "markdown",
      "metadata": {},
      "source": [
        "Section 4 - Machine Learning Model"
      ]
    },
    {
      "cell_type": "markdown",
      "metadata": {
        "id": "sIOS7efk8HVb"
      },
      "source": [
        "Machine Learning Model\n",
        "Here Iam using Logistic Regression , SVC classifier , Naive bayes , Decisiontree classifier for classification"
      ]
    },
    {
      "cell_type": "code",
      "execution_count": 130,
      "metadata": {
        "colab": {
          "base_uri": "https://localhost:8080/"
        },
        "id": "8uzel8roylzu",
        "outputId": "0d3b20a8-05e8-4cef-cfdc-c306584cafec"
      },
      "outputs": [
        {
          "name": "stdout",
          "output_type": "stream",
          "text": [
            "Logistic Regression model accuracy (in %): 88.06451612903226\n",
            "Logistic Regression model Confusion Matrix\n",
            "[[273   0]\n",
            " [ 37   0]]\n",
            "SVC model accuracy (in %): 88.06451612903226\n",
            "SVC model Confusion Matrix\n",
            "[[273   0]\n",
            " [ 37   0]]\n",
            "DecisionTree accuracy (in %): 86.45161290322581\n",
            "Decision model Confusion Matrix\n",
            "[[253  20]\n",
            " [ 22  15]]\n",
            "Naive bayes classifier accuracy (in %): 87.09677419354838\n",
            "Naive model Confusion Matrix (in %)\n",
            "[[269   4]\n",
            " [ 36   1]]\n"
          ]
        }
      ],
      "source": [
        "from sklearn.linear_model import LogisticRegression\n",
        "from sklearn.model_selection import train_test_split\n",
        "from sklearn.metrics import accuracy_score,confusion_matrix\n",
        "from sklearn.svm import SVC\n",
        "from sklearn.tree import DecisionTreeClassifier\n",
        "from sklearn.naive_bayes import GaussianNB\n",
        "X_train, X_test,\\\n",
        "    y_train, y_test = train_test_split(X, y,\n",
        "                                       test_size=0.20,\n",
        "                                       random_state=23)\n",
        "# LogisticRegression\n",
        "clf = LogisticRegression(random_state=0)\n",
        "clf.fit(X_train, y_train)\n",
        "#SVC classifier\n",
        "clf1=SVC(random_state=101)\n",
        "clf1=clf1.fit(X_train,y_train)\n",
        "#Decisiontree classifier\n",
        "clf2=DecisionTreeClassifier()\n",
        "clf2=clf2.fit(X_train,y_train)\n",
        "#Naive bayes\n",
        "clf3=GaussianNB()\n",
        "clf3=clf3.fit(X_train,y_train)\n",
        "# Prediction for logistic regression\n",
        "y_pred = clf.predict(X_test)\n",
        "#Prediction for SVC classifier\n",
        "y_pred1=clf1.predict(X_test)\n",
        "#Prediction for Decisiontree classifier\n",
        "y_pred2=clf2.predict(X_test)\n",
        "#Prediction for Naive bayes\n",
        "y_pred3=clf3.predict(X_test)\n",
        "\n",
        "acc = accuracy_score(y_test, y_pred)\n",
        "conf=confusion_matrix(y_test, y_pred)\n",
        "print(\"Logistic Regression model accuracy (in %):\", acc*100)\n",
        "print(\"Logistic Regression model Confusion Matrix\")\n",
        "print(conf)\n",
        "acc = accuracy_score(y_test, y_pred1)\n",
        "conf=confusion_matrix(y_test, y_pred1)\n",
        "print(\"SVC model accuracy (in %):\", acc*100)\n",
        "print(\"SVC model Confusion Matrix\")\n",
        "print(conf)\n",
        "acc = accuracy_score(y_test, y_pred2)\n",
        "conf=confusion_matrix(y_test, y_pred2)\n",
        "print(\"DecisionTree accuracy (in %):\", acc*100)\n",
        "print(\"Decision model Confusion Matrix\")\n",
        "print(conf)\n",
        "acc = accuracy_score(y_test, y_pred3)\n",
        "conf=confusion_matrix(y_test, y_pred3)\n",
        "print(\"Naive bayes classifier accuracy (in %):\", acc*100)\n",
        "print(\"Naive model Confusion Matrix (in %)\")\n",
        "print(conf)"
      ]
    },
    {
      "cell_type": "markdown",
      "metadata": {
        "id": "53c0caOXLW6z"
      },
      "source": [
        "From the accuracy we dound that Logistic Regression model and SVC classifier are best models for this problem statement"
      ]
    }
  ],
  "metadata": {
    "colab": {
      "provenance": []
    },
    "kernelspec": {
      "display_name": "Python 3",
      "name": "python3"
    },
    "language_info": {
      "name": "python"
    }
  },
  "nbformat": 4,
  "nbformat_minor": 0
}
